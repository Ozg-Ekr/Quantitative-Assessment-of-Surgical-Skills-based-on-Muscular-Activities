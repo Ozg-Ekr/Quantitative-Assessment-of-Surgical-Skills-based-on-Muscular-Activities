{
 "cells": [
  {
   "attachments": {},
   "cell_type": "markdown",
   "id": "1f149d50",
   "metadata": {},
   "source": [
    "### Data loading for single muscle (so two chanels)"
   ]
  },
  {
   "cell_type": "code",
   "execution_count": 1,
   "id": "e881706c",
   "metadata": {},
   "outputs": [],
   "source": [
    "import numpy as np \n",
    "import pandas as pd\n",
    "from os.path import dirname, join as pjoin\n",
    "import scipy.signal\n",
    "import os\n",
    "from sklearn.ensemble import RandomForestClassifier\n",
    "from sklearn.model_selection import cross_val_score\n",
    "from sklearn.svm import SVC\n",
    "from sklearn.neural_network import MLPClassifier\n"
   ]
  },
  {
   "cell_type": "code",
   "execution_count": 2,
   "id": "746837e1",
   "metadata": {},
   "outputs": [],
   "source": [
    "list_500 = np.empty((0,2,14))\n",
    "list_510 = np.empty((0,2,14))\n",
    "list_540 = np.empty((0,2,14))\n",
    "list_541 = np.empty((0,2,14))\n",
    "list_560 = np.empty((0,2,14))"
   ]
  },
  {
   "cell_type": "code",
   "execution_count": 3,
   "id": "6171a75f",
   "metadata": {},
   "outputs": [
    {
     "name": "stdout",
     "output_type": "stream",
     "text": [
      "nb files  45\n",
      "(45, 2, 14)\n",
      "nb files  46\n",
      "(46, 2, 14)\n",
      "(44, 2, 14)\n",
      "(43, 2, 14)\n",
      "(41, 2, 14)\n"
     ]
    }
   ],
   "source": [
    "data_dir = pjoin('data_features_norma','run_500')\n",
    "nb_files = len(os.listdir(data_dir))\n",
    "print(\"nb files \", nb_files)\n",
    "list_500 = np.empty((nb_files,2,14))\n",
    "for i in range(nb_files):\n",
    "    path = pjoin(data_dir , f'run_500_{i}.csv')\n",
    "    data = pd.read_csv(path, skiprows = lambda x: x not in [4,12])  ## we are taking only this specific muscle for both arm\n",
    "    data = data.apply(pd.to_numeric, errors='coerce') #convert any non numeric value to Nan\n",
    "    data.fillna(0) #replaece nan values by 0\n",
    "    data.reset_index(drop=True)\n",
    "    list_500[i]= data\n",
    "print(list_500.shape)   \n",
    "\n",
    "\n",
    "data_dir = pjoin('data_features_norma','run_510')\n",
    "nb_files = len(os.listdir(data_dir))\n",
    "print(\"nb files \", nb_files)\n",
    "list_510 = np.empty((nb_files,2,14))\n",
    "for i in range(nb_files):\n",
    "    path = pjoin(data_dir , f'run_510_{i}.csv')\n",
    "    data = pd.read_csv(path, skiprows = lambda x: x not in  [4,12])  ## we are taking only this specific muscle for both arm\n",
    "    data = data.apply (pd.to_numeric, errors='coerce') #convert any non numeric value to Nan\n",
    "    data.fillna(0) #replaece nan values by 0\n",
    "    data.reset_index(drop=True)\n",
    "    list_510[i]= data\n",
    "print(list_510.shape) \n",
    "\n",
    "\n",
    "data_dir = pjoin('data_features_norma','run_540')\n",
    "nb_files = len(os.listdir(data_dir))  \n",
    "list_540 = np.empty((nb_files,2,14))\n",
    "for i in range(nb_files):\n",
    "    path = pjoin(data_dir , f'run_540_{i}.csv')\n",
    "    data = pd.read_csv(path, skiprows = lambda x: x not in [4,12])  ## we are taking only this specific muscle for both arm\n",
    "    data = data.apply (pd.to_numeric, errors='coerce') #convert any non numeric value to Nan\n",
    "    data.fillna(0) #replaece nan values by 0\n",
    "    data.reset_index(drop=True)\n",
    "    list_540[i]= data\n",
    "print(list_540.shape) \n",
    "\n",
    "data_dir = pjoin('data_features_norma','run_541')\n",
    "nb_files = len(os.listdir(data_dir))  \n",
    "list_541 = np.empty((nb_files,2,14))\n",
    "for i in range(nb_files):\n",
    "    path = pjoin(data_dir , f'run_541_{i}.csv')\n",
    "    data = pd.read_csv(path, skiprows = lambda x: x not in [4,12])  ## we are taking only this specific muscle for both arm\n",
    "    data = data.apply (pd.to_numeric, errors='coerce') #convert any non numeric value to Nan\n",
    "    data.fillna(0) #replaece nan values by 0\n",
    "    data.reset_index(drop=True)\n",
    "    list_541[i]= data\n",
    "print(list_541.shape) \n",
    "\n",
    "\n",
    "data_dir = pjoin('data_features_norma','run_560')\n",
    "nb_files = len(os.listdir(data_dir))  \n",
    "list_560 = np.empty((nb_files,2,14))\n",
    "for i in range(nb_files):\n",
    "    path = pjoin(data_dir , f'run_560_{i}.csv')\n",
    "    data = pd.read_csv(path, skiprows = lambda x: x not in [4,12])  ## we are taking only this specific muscle for both arm\n",
    "    data = data.apply (pd.to_numeric, errors='coerce') #convert any non numeric value to Nan\n",
    "    data.fillna(0) #replaece nan values by 0 \n",
    "    data.reset_index(drop=True)\n",
    "    list_560[i]= data\n",
    "print(list_560.shape) "
   ]
  },
  {
   "cell_type": "code",
   "execution_count": 4,
   "id": "7b40b435",
   "metadata": {},
   "outputs": [],
   "source": [
    "list_500 = np.reshape(list_500,(list_500.shape[0],list_500.shape[1]*list_500.shape[2]))\n",
    "list_510 = np.reshape(list_510,(list_510.shape[0],list_510.shape[1]*list_510.shape[2]))\n",
    "list_540 = np.reshape(list_540,(list_540.shape[0],list_540.shape[1]*list_540.shape[2]))\n",
    "list_541 = np.reshape(list_541,(list_541.shape[0],list_541.shape[1]*list_541.shape[2]))\n",
    "list_560 = np.reshape(list_560,(list_560.shape[0],list_560.shape[1]*list_560.shape[2]))"
   ]
  },
  {
   "cell_type": "code",
   "execution_count": 5,
   "id": "80352dea",
   "metadata": {},
   "outputs": [],
   "source": [
    "label_500 = np.empty((list_500.shape[0]))\n",
    "label_510 = np.empty((list_510.shape[0]))\n",
    "label_540 = np.empty((list_540.shape[0]))\n",
    "label_541 = np.empty((list_541.shape[0]))\n",
    "\n",
    "label_560 = np.empty((list_560.shape[0]))\n",
    "\n",
    "data_dir = pjoin('data_labels_norma')\n",
    "\n",
    "path = pjoin(data_dir,'label_500.csv')\n",
    "data = pd.read_csv(path)\n",
    "label_500 = data[\"0\"]\n",
    "\n",
    "path = pjoin(data_dir,'label_510.csv')\n",
    "data = pd.read_csv(path)\n",
    "label_510 = data[\"0\"]\n",
    "\n",
    "\n",
    "path = pjoin(data_dir,'label_540.csv')\n",
    "data = pd.read_csv(path)\n",
    "label_540 = data[\"0\"]\n",
    "\n",
    "path = pjoin(data_dir,'label_541.csv')\n",
    "data = pd.read_csv(path)\n",
    "label_541 = data[\"0\"]\n",
    "\n",
    "\n",
    "path = pjoin(data_dir,'label_560.csv')\n",
    "data = pd.read_csv(path)\n",
    "label_560 = data[\"0\"]"
   ]
  },
  {
   "cell_type": "code",
   "execution_count": 6,
   "id": "ca54b5dc",
   "metadata": {},
   "outputs": [],
   "source": [
    "from sklearn.model_selection import train_test_split\n",
    "x_train_500, x_test_500, y_train_500, y_test_500 = train_test_split(list_500, label_500, test_size=0.3,shuffle = True ,random_state=100)\n",
    "x_train_510, x_test_510, y_train_510, y_test_510 = train_test_split(list_510, label_510, test_size=0.3,shuffle = True ,random_state=100)\n",
    "x_train_540, x_test_540, y_train_540, y_test_540 = train_test_split(list_540, label_540, test_size=0.3,shuffle = True ,random_state=100)\n",
    "x_train_541, x_test_541, y_train_541, y_test_541 = train_test_split(list_541, label_541, test_size=0.3,shuffle = True ,random_state=100)\n",
    "x_train_560, x_test_560, y_train_560, y_test_560 = train_test_split(list_560, label_560, test_size=0.3,shuffle = True ,random_state=100)"
   ]
  },
  {
   "attachments": {},
   "cell_type": "markdown",
   "id": "4d378654",
   "metadata": {},
   "source": [
    "### Classification : "
   ]
  },
  {
   "attachments": {},
   "cell_type": "markdown",
   "id": "aef94328",
   "metadata": {},
   "source": [
    "#### RFC :"
   ]
  },
  {
   "cell_type": "code",
   "execution_count": 7,
   "id": "b6a8d3da",
   "metadata": {},
   "outputs": [
    {
     "name": "stdout",
     "output_type": "stream",
     "text": [
      "0.71 accuracy with a standard deviation of 0.05\n"
     ]
    }
   ],
   "source": [
    "rfc_500 = RandomForestClassifier(max_depth=None,class_weight='balanced',verbose=0)\n",
    "scores = cross_val_score(rfc_500, list_500, label_500, cv=5)\n",
    "print(\"%0.2f accuracy with a standard deviation of %0.2f\" % (scores.mean(), scores.std()))"
   ]
  },
  {
   "cell_type": "code",
   "execution_count": 8,
   "id": "a4d44026",
   "metadata": {},
   "outputs": [
    {
     "name": "stdout",
     "output_type": "stream",
     "text": [
      "0.63 accuracy with a standard deviation of 0.11\n"
     ]
    }
   ],
   "source": [
    "rfc_510 = RandomForestClassifier(max_depth=None,class_weight='balanced',verbose=0)\n",
    "scores = cross_val_score(rfc_510, list_510, label_510, cv=5)\n",
    "print(\"%0.2f accuracy with a standard deviation of %0.2f\" % (scores.mean(), scores.std()))"
   ]
  },
  {
   "cell_type": "code",
   "execution_count": 9,
   "id": "38514d07",
   "metadata": {},
   "outputs": [
    {
     "name": "stdout",
     "output_type": "stream",
     "text": [
      "0.82 accuracy with a standard deviation of 0.05\n"
     ]
    }
   ],
   "source": [
    "rfc_540 = RandomForestClassifier(max_depth=None,class_weight='balanced',verbose=0)\n",
    "scores = cross_val_score(rfc_540, list_540, label_540, cv=5)\n",
    "print(\"%0.2f accuracy with a standard deviation of %0.2f\" % (scores.mean(), scores.std()))"
   ]
  },
  {
   "cell_type": "code",
   "execution_count": 10,
   "id": "34e689ec",
   "metadata": {},
   "outputs": [
    {
     "name": "stdout",
     "output_type": "stream",
     "text": [
      "0.65 accuracy with a standard deviation of 0.11\n"
     ]
    }
   ],
   "source": [
    "rfc_541 = RandomForestClassifier(max_depth=None,class_weight='balanced',verbose=0)\n",
    "scores = cross_val_score(rfc_541, list_541, label_541, cv=5)\n",
    "print(\"%0.2f accuracy with a standard deviation of %0.2f\" % (scores.mean(), scores.std()))"
   ]
  },
  {
   "cell_type": "code",
   "execution_count": 11,
   "id": "910a574a",
   "metadata": {},
   "outputs": [
    {
     "name": "stdout",
     "output_type": "stream",
     "text": [
      "0.68 accuracy with a standard deviation of 0.21\n"
     ]
    }
   ],
   "source": [
    "rfc_560 = RandomForestClassifier(max_depth=None,class_weight='balanced',verbose=0)\n",
    "scores = cross_val_score(rfc_560, list_560, label_560, cv=5)\n",
    "print(\"%0.2f accuracy with a standard deviation of %0.2f\" % (scores.mean(), scores.std()))"
   ]
  },
  {
   "attachments": {},
   "cell_type": "markdown",
   "id": "0338ef13",
   "metadata": {},
   "source": [
    "#### SVM : "
   ]
  },
  {
   "cell_type": "code",
   "execution_count": 12,
   "id": "9cf8078d",
   "metadata": {},
   "outputs": [
    {
     "name": "stdout",
     "output_type": "stream",
     "text": [
      "Maximum accuarcy of  0.7333333333333333 is obtained with param : rbf scale 1.0 29 (last only if kernel is poly)\n"
     ]
    }
   ],
   "source": [
    "max_accuracy = 0\n",
    "\n",
    "best_kernel = ''\n",
    "best_gamma = ''\n",
    "best_c = 0.\n",
    "best_degree = 0.\n",
    "\n",
    "degree = 1\n",
    "for kernel in ['linear', 'poly', 'rbf', 'sigmoid']:\n",
    "    for gamma in ['auto','scale']:\n",
    "        for c in[0.01,0.1,0.2,0.3,0.5,1.0,1.5,2,3,5,10,20,30,50,100,250,500,1000]:\n",
    "            if kernel == 'poly':\n",
    "                for degree in range(1,30):\n",
    "\n",
    "                    svm_500= SVC(gamma=gamma,kernel=kernel,class_weight='balanced',C=c, degree=degree,max_iter= -1,verbose=0)\n",
    "                    scores_500 = cross_val_score(svm_500, list_500, label_500, cv=5)\n",
    "\n",
    "                    if scores_500.mean()> max_accuracy:\n",
    "                        max_accuracy = scores_500.mean()\n",
    "                        best_kernel = kernel\n",
    "                        best_gamma= gamma\n",
    "                        best_c = c\n",
    "                        best_degree = degree\n",
    "\n",
    "          \n",
    "            else :\n",
    "                svm_500= SVC(gamma=gamma,kernel=kernel,class_weight='balanced',C=c,max_iter= -1,verbose=0)\n",
    "                scores_500 = cross_val_score(svm_500, list_500, label_500, cv=5)\n",
    "\n",
    "                if scores_500.mean()> max_accuracy:\n",
    "                    max_accuracy = scores_500.mean()\n",
    "                    best_kernel = kernel\n",
    "                    best_gamma= gamma\n",
    "                    best_c = c\n",
    "                    best_degree = degree\n",
    "\n",
    "print(\"Maximum accuarcy of \",max_accuracy,\"is obtained with param :\",best_kernel,best_gamma,best_c,best_degree,\"(last only if kernel is poly)\")\n",
    "\n",
    "\n",
    "    "
   ]
  },
  {
   "cell_type": "code",
   "execution_count": 13,
   "id": "95731ec1",
   "metadata": {},
   "outputs": [
    {
     "name": "stdout",
     "output_type": "stream",
     "text": [
      "Maximum accuarcy of  0.7333333333333333 is obtained with param : rbf scale 1.00001 29 (last only if kernel is poly)\n"
     ]
    }
   ],
   "source": [
    "max_accuracy = 0\n",
    "\n",
    "best_kernel = ''\n",
    "best_gamma = ''\n",
    "best_c = 0.\n",
    "best_degree = 0.\n",
    "\n",
    "degree = 1\n",
    "for kernel in ['linear', 'poly', 'rbf', 'sigmoid']:\n",
    "    for gamma in ['auto','scale']:\n",
    "        for c in np.arange(0.00001,5,0.20):\n",
    "            if kernel == 'poly':\n",
    "                for degree in range(1,30):\n",
    "\n",
    "                    svm_500= SVC(gamma=gamma,kernel=kernel,class_weight='balanced',C=c, degree=degree,max_iter= -1,verbose=0)\n",
    "                    scores_500 = cross_val_score(svm_500, list_500, label_500, cv=5)\n",
    "\n",
    "                    if scores_500.mean()> max_accuracy:\n",
    "                        max_accuracy = scores_500.mean()\n",
    "                        best_kernel = kernel\n",
    "                        best_gamma= gamma\n",
    "                        best_c = c\n",
    "                        best_degree = degree\n",
    "\n",
    "          \n",
    "            else :\n",
    "                svm_500= SVC(gamma=gamma,kernel=kernel,class_weight='balanced',C=c,max_iter= -1,verbose=0)\n",
    "                scores_500 = cross_val_score(svm_500, list_500, label_500, cv=5)\n",
    "\n",
    "                if scores_500.mean()> max_accuracy:\n",
    "                    max_accuracy = scores_500.mean()\n",
    "                    best_kernel = kernel\n",
    "                    best_gamma= gamma\n",
    "                    best_c = c\n",
    "                    best_degree = degree\n",
    "\n",
    "print(\"Maximum accuarcy of \",max_accuracy,\"is obtained with param :\",best_kernel,best_gamma,best_c,best_degree,\"(last only if kernel is poly)\")\n"
   ]
  },
  {
   "cell_type": "code",
   "execution_count": 14,
   "id": "193b9129",
   "metadata": {},
   "outputs": [
    {
     "name": "stdout",
     "output_type": "stream",
     "text": [
      "Maximum accuarcy of  0.72 is obtained with param : poly scale 1 2 (last only if kernel is poly)\n"
     ]
    }
   ],
   "source": [
    "#for run 510 : \n",
    "\n",
    "max_accuracy = 0\n",
    "\n",
    "best_kernel = ''\n",
    "best_gamma = ''\n",
    "best_c = 0.\n",
    "best_degree = 0.\n",
    "\n",
    "degree = 1\n",
    "for kernel in ['linear', 'poly', 'rbf', 'sigmoid']:\n",
    "    for gamma in ['auto','scale']:\n",
    "        for c in[1,2,5,10,50,100,1000,2500,5000,10000,50000,1e6,1e10]:\n",
    "            if kernel == 'poly':\n",
    "                for degree in range(1,30):\n",
    "\n",
    "                    svm_510= SVC(gamma=gamma,kernel=kernel,class_weight='balanced',C=c, degree=degree,max_iter= -1,verbose=0)\n",
    "                    scores_510 = cross_val_score(svm_510, list_510, label_510, cv=5)\n",
    "\n",
    "                    if scores_510.mean()> max_accuracy:\n",
    "                        max_accuracy = scores_510.mean()\n",
    "                        best_kernel = kernel\n",
    "                        best_gamma= gamma\n",
    "                        best_c = c\n",
    "                        best_degree = degree\n",
    "\n",
    "          \n",
    "            else :\n",
    "                svm_510= SVC(gamma=gamma,kernel=kernel,class_weight='balanced',C=c,max_iter= -1,verbose=0)\n",
    "                scores_510 = cross_val_score(svm_510, list_510, label_510, cv=5)\n",
    "\n",
    "                if scores_510.mean()> max_accuracy:\n",
    "                    max_accuracy = scores_510.mean()\n",
    "                    best_kernel = kernel\n",
    "                    best_gamma= gamma\n",
    "                    best_c = c\n",
    "                    best_degree = degree\n",
    "\n",
    "print(\"Maximum accuarcy of \",max_accuracy,\"is obtained with param :\",best_kernel,best_gamma,best_c,best_degree,\"(last only if kernel is poly)\")\n",
    "\n",
    "\n",
    "    "
   ]
  },
  {
   "cell_type": "code",
   "execution_count": 15,
   "id": "9bea37e0",
   "metadata": {},
   "outputs": [
    {
     "name": "stdout",
     "output_type": "stream",
     "text": [
      "Maximum accuarcy of  0.72 is obtained with param : linear auto 1.4001000000000001 1 (last only if kernel is poly)\n"
     ]
    }
   ],
   "source": [
    "#for run 510 : \n",
    "\n",
    "max_accuracy = 0\n",
    "\n",
    "best_kernel = ''\n",
    "best_gamma = ''\n",
    "best_c = 0.\n",
    "best_degree = 0.\n",
    "\n",
    "degree = 1\n",
    "for kernel in ['linear', 'poly', 'rbf', 'sigmoid']:\n",
    "    for gamma in ['auto','scale']:\n",
    "        for c in np.arange(0.0001,3,0.2):\n",
    "            if kernel == 'poly':\n",
    "                for degree in range(1,30):\n",
    "\n",
    "                    svm_510= SVC(gamma=gamma,kernel=kernel,class_weight='balanced',C=c, degree=degree,max_iter= -1,verbose=0)\n",
    "                    scores_510 = cross_val_score(svm_510, list_510, label_510, cv=5)\n",
    "\n",
    "                    if scores_510.mean()> max_accuracy:\n",
    "                        max_accuracy = scores_510.mean()\n",
    "                        best_kernel = kernel\n",
    "                        best_gamma= gamma\n",
    "                        best_c = c\n",
    "                        best_degree = degree\n",
    "\n",
    "          \n",
    "            else :\n",
    "                svm_510= SVC(gamma=gamma,kernel=kernel,class_weight='balanced',C=c,max_iter= -1,verbose=0)\n",
    "                scores_510 = cross_val_score(svm_510, list_510, label_510, cv=5)\n",
    "\n",
    "                if scores_510.mean()> max_accuracy:\n",
    "                    max_accuracy = scores_510.mean()\n",
    "                    best_kernel = kernel\n",
    "                    best_gamma= gamma\n",
    "                    best_c = c\n",
    "                    best_degree = degree\n",
    "\n",
    "print(\"Maximum accuarcy of \",max_accuracy,\"is obtained with param :\",best_kernel,best_gamma,best_c,best_degree,\"(last only if kernel is poly)\")\n",
    "\n",
    "\n",
    "    "
   ]
  },
  {
   "cell_type": "code",
   "execution_count": 16,
   "id": "c8147464",
   "metadata": {},
   "outputs": [
    {
     "name": "stdout",
     "output_type": "stream",
     "text": [
      "Maximum accuarcy of  0.6805555555555556 is obtained with param : linear auto 5 1 (last only if kernel is poly)\n"
     ]
    }
   ],
   "source": [
    "#for run 540 : \n",
    "max_accuracy = 0\n",
    "\n",
    "best_kernel = ''\n",
    "best_gamma = ''\n",
    "best_c = 0.\n",
    "best_degree = 0.\n",
    "\n",
    "degree = 1\n",
    "for kernel in ['linear', 'poly', 'rbf', 'sigmoid']:\n",
    "    for gamma in ['auto','scale']:\n",
    "        for c in[0.01,0.1,0.2,0.3,0.5,1.0,1.5,2,3,5,10,20,30,50,100,250,500,1000]:\n",
    "            if kernel == 'poly':\n",
    "                for degree in range(1,30):\n",
    "\n",
    "                    svm_540= SVC(gamma=gamma,kernel=kernel,class_weight='balanced',C=c, degree=degree,max_iter= -1,verbose=0)\n",
    "                    scores_540 = cross_val_score(svm_540, list_540, label_540, cv=5)\n",
    "\n",
    "                    if scores_540.mean()> max_accuracy:\n",
    "                        max_accuracy = scores_540.mean()\n",
    "                        best_kernel = kernel\n",
    "                        best_gamma= gamma\n",
    "                        best_c = c\n",
    "                        best_degree = degree\n",
    "\n",
    "          \n",
    "            else :\n",
    "                svm_540= SVC(gamma=gamma,kernel=kernel,class_weight='balanced',C=c,max_iter= -1,verbose=0)\n",
    "                scores_540 = cross_val_score(svm_540, list_540, label_540, cv=5)\n",
    "\n",
    "                if scores_540.mean()> max_accuracy:\n",
    "                    max_accuracy = scores_540.mean()\n",
    "                    best_kernel = kernel\n",
    "                    best_gamma= gamma\n",
    "                    best_c = c\n",
    "                    best_degree = degree\n",
    "\n",
    "print(\"Maximum accuarcy of \",max_accuracy,\"is obtained with param :\",best_kernel,best_gamma,best_c,best_degree,\"(last only if kernel is poly)\")\n"
   ]
  },
  {
   "cell_type": "code",
   "execution_count": 17,
   "id": "661e81fd",
   "metadata": {},
   "outputs": [
    {
     "name": "stdout",
     "output_type": "stream",
     "text": [
      "Maximum accuarcy of  0.6805555555555556 is obtained with param : linear auto 4.5 1 (last only if kernel is poly)\n"
     ]
    }
   ],
   "source": [
    "max_accuracy = 0\n",
    "\n",
    "best_kernel = ''\n",
    "best_gamma = ''\n",
    "best_c = 0.,\n",
    "best_degree = 0.\n",
    "\n",
    "degree = 1\n",
    "for kernel in ['linear', 'poly', 'rbf', 'sigmoid']:\n",
    "    for gamma in ['auto','scale']:\n",
    "        for c in np.arange(2,10,0.25):\n",
    "            if kernel == 'poly':\n",
    "                for degree in range(1,30):\n",
    "\n",
    "                    svm_540= SVC(gamma=gamma,kernel=kernel,class_weight='balanced',C=c, degree=degree,max_iter= -1,verbose=0)\n",
    "                    scores_540 = cross_val_score(svm_540, list_540, label_540, cv=5)\n",
    "\n",
    "                    if scores_540.mean()> max_accuracy:\n",
    "                        max_accuracy = scores_540.mean()\n",
    "                        best_kernel = kernel\n",
    "                        best_gamma= gamma\n",
    "                        best_c = c\n",
    "                        best_degree = degree\n",
    "\n",
    "          \n",
    "            else :\n",
    "                svm_540= SVC(gamma=gamma,kernel=kernel,class_weight='balanced',C=c,max_iter= -1,verbose=0)\n",
    "                scores_540 = cross_val_score(svm_540, list_540, label_540, cv=5)\n",
    "\n",
    "                if scores_540.mean()> max_accuracy:\n",
    "                    max_accuracy = scores_540.mean()\n",
    "                    best_kernel = kernel\n",
    "                    best_gamma= gamma\n",
    "                    best_c = c\n",
    "                    best_degree = degree\n",
    "\n",
    "print(\"Maximum accuarcy of \",max_accuracy,\"is obtained with param :\",best_kernel,best_gamma,best_c,best_degree,\"(last only if kernel is poly)\")\n"
   ]
  },
  {
   "cell_type": "code",
   "execution_count": 18,
   "id": "bdebca0e",
   "metadata": {},
   "outputs": [
    {
     "name": "stdout",
     "output_type": "stream",
     "text": [
      "Maximum accuarcy of  0.625 is obtained with param : poly scale 20 28 (last only if kernel is poly)\n"
     ]
    }
   ],
   "source": [
    "\n",
    "#for run 541 : \n",
    "\n",
    "max_accuracy = 0\n",
    "\n",
    "best_kernel = ''\n",
    "best_gamma = ''\n",
    "best_c = 0.,\n",
    "best_degree = 0.\n",
    "\n",
    "degree = 1\n",
    "for kernel in ['linear', 'poly', 'rbf', 'sigmoid']:\n",
    "    for gamma in ['auto','scale']:\n",
    "        for c in[0.01,0.1,0.2,0.3,0.5,1.0,1.5,2,3,5,10,20,30,50,100,250,500,1000]:\n",
    "            if kernel == 'poly':\n",
    "                for degree in range(1,30):\n",
    "\n",
    "                    svm_541= SVC(gamma=gamma,kernel=kernel,class_weight='balanced',C=c, degree=degree,max_iter= -1,verbose=0)\n",
    "                    scores_541 = cross_val_score(svm_541, list_541, label_541, cv=5)\n",
    "\n",
    "                    if scores_541.mean()> max_accuracy:\n",
    "                        max_accuracy = scores_541.mean()\n",
    "                        best_kernel = kernel\n",
    "                        best_gamma= gamma\n",
    "                        best_c = c\n",
    "                        best_degree = degree\n",
    "\n",
    "          \n",
    "            else :\n",
    "                svm_541= SVC(gamma=gamma,kernel=kernel,class_weight='balanced',C=c,max_iter= -1,verbose=0)\n",
    "                scores_541 = cross_val_score(svm_541, list_541, label_541, cv=5)\n",
    "\n",
    "                if scores_541.mean()> max_accuracy:\n",
    "                    max_accuracy = scores_541.mean()\n",
    "                    best_kernel = kernel\n",
    "                    best_gamma= gamma\n",
    "                    best_c = c\n",
    "                    best_degree = degree\n",
    "\n",
    "print(\"Maximum accuarcy of \",max_accuracy,\"is obtained with param :\",best_kernel,best_gamma,best_c,best_degree,\"(last only if kernel is poly)\")\n"
   ]
  },
  {
   "cell_type": "code",
   "execution_count": 23,
   "id": "49db9124",
   "metadata": {},
   "outputs": [],
   "source": [
    "max_accuracy = 0\n",
    "\n",
    "best_kernel = ''\n",
    "best_gamma = ''\n",
    "best_c = 0.,\n",
    "best_degree = 0.\n",
    "\n",
    "degree = 1\n",
    "for kernel in ['linear', 'poly', 'rbf', 'sigmoid']:\n",
    "    for gamma in ['auto','scale']:\n",
    "        for c in np.arange(10,40,1):\n",
    "            if kernel == 'poly':\n",
    "                for degree in range(30,60):\n",
    "\n",
    "                    svm_541= SVC(gamma=gamma,kernel=kernel,class_weight='balanced',C=c, degree=degree,max_iter= -1,verbose=0)\n",
    "                    scores_541 = cross_val_score(svm_541, list_541, label_541, cv=5)\n",
    "\n",
    "                    if scores_541.mean()> max_accuracy:\n",
    "                        max_accuracy = scores_541.mean()\n",
    "                        best_kernel = kernel\n",
    "                        best_gamma= gamma\n",
    "                        best_c = c\n",
    "                        best_degree = degree\n",
    "\n",
    "          \n",
    "            else :\n",
    "                svm_541= SVC(gamma=gamma,kernel=kernel,class_weight='balanced',C=c,max_iter= -1,verbose=0)\n",
    "                scores_541 = cross_val_score(svm_541, list_541, label_541, cv=5)\n",
    "\n",
    "                if scores_541.mean()> max_accuracy:\n",
    "                    max_accuracy = scores_541.mean()\n",
    "                    best_kernel = kernel\n",
    "                    best_gamma= gamma\n",
    "                    best_c = c\n",
    "                    best_degree = degree\n",
    "\n",
    "print(\"Maximum accuarcy of \",max_accuracy,\"is obtained with param :\",best_kernel,best_gamma,best_c,best_degree,\"(last only if kernel is poly)\")\n"
   ]
  },
  {
   "cell_type": "code",
   "execution_count": 20,
   "id": "bd7a5f4b",
   "metadata": {},
   "outputs": [
    {
     "name": "stdout",
     "output_type": "stream",
     "text": [
      "Maximum accuarcy of  0.775 is obtained with param : linear auto 10 1 (last only if kernel is poly)\n"
     ]
    }
   ],
   "source": [
    "#for run 560 : \n",
    "\n",
    "max_accuracy = 0\n",
    "\n",
    "best_kernel = ''\n",
    "best_gamma = ''\n",
    "best_c = 0.,\n",
    "best_degree = 0.\n",
    "\n",
    "degree = 1\n",
    "for kernel in ['linear', 'poly', 'rbf', 'sigmoid']:\n",
    "    for gamma in ['auto','scale']:\n",
    "        for c in[0.01,0.1,0.2,0.3,0.5,1.0,1.5,2,3,5,10,20,30,50,100,250,500,1000]:\n",
    "            if kernel == 'poly':\n",
    "                for degree in range(1,30):\n",
    "\n",
    "                    svm_560= SVC(gamma=gamma,kernel=kernel,class_weight='balanced',C=c, degree=degree,max_iter= -1,verbose=0)\n",
    "                    scores_560 = cross_val_score(svm_560, list_560, label_560, cv=5)\n",
    "\n",
    "                    if scores_560.mean()> max_accuracy:\n",
    "                        max_accuracy = scores_560.mean()\n",
    "                        best_kernel = kernel\n",
    "                        best_gamma= gamma\n",
    "                        best_c = c\n",
    "                        best_degree = degree\n",
    "\n",
    "          \n",
    "            else :\n",
    "                svm_560= SVC(gamma=gamma,kernel=kernel,class_weight='balanced',C=c,max_iter= -1,verbose=0)\n",
    "                scores_560 = cross_val_score(svm_560, list_560, label_560, cv=5)\n",
    "\n",
    "                if scores_560.mean()> max_accuracy:\n",
    "                    max_accuracy = scores_560.mean()\n",
    "                    best_kernel = kernel\n",
    "                    best_gamma= gamma\n",
    "                    best_c = c\n",
    "                    best_degree = degree\n",
    "\n",
    "print(\"Maximum accuarcy of \",max_accuracy,\"is obtained with param :\",best_kernel,best_gamma,best_c,best_degree,\"(last only if kernel is poly)\")\n"
   ]
  },
  {
   "cell_type": "code",
   "execution_count": 21,
   "id": "181b0ded",
   "metadata": {},
   "outputs": [
    {
     "name": "stdout",
     "output_type": "stream",
     "text": [
      "Maximum accuarcy of  0.775 is obtained with param : linear auto 8.5 1 (last only if kernel is poly)\n"
     ]
    }
   ],
   "source": [
    "max_accuracy = 0\n",
    "\n",
    "best_kernel = ''\n",
    "best_gamma = ''\n",
    "best_c = 0.,\n",
    "best_degree = 0.\n",
    "\n",
    "degree = 1\n",
    "for kernel in ['linear', 'poly', 'rbf', 'sigmoid']:\n",
    "    for gamma in ['auto','scale']:\n",
    "        for c in np.arange(5,20,0.5):\n",
    "            if kernel == 'poly':\n",
    "                for degree in range(1,30):\n",
    "\n",
    "                    svm_560= SVC(gamma=gamma,kernel=kernel,class_weight='balanced',C=c, degree=degree,max_iter= -1,verbose=0)\n",
    "                    scores_560 = cross_val_score(svm_560, list_560, label_560, cv=5)\n",
    "\n",
    "                    if scores_560.mean()> max_accuracy:\n",
    "                        max_accuracy = scores_560.mean()\n",
    "                        best_kernel = kernel\n",
    "                        best_gamma= gamma\n",
    "                        best_c = c\n",
    "                        best_degree = degree\n",
    "\n",
    "          \n",
    "            else :\n",
    "                svm_560= SVC(gamma=gamma,kernel=kernel,class_weight='balanced',C=c,max_iter= -1,verbose=0)\n",
    "                scores_560 = cross_val_score(svm_560, list_560, label_560, cv=5)\n",
    "\n",
    "                if scores_560.mean()> max_accuracy:\n",
    "                    max_accuracy = scores_560.mean()\n",
    "                    best_kernel = kernel\n",
    "                    best_gamma= gamma\n",
    "                    best_c = c\n",
    "                    best_degree = degree\n",
    "\n",
    "print(\"Maximum accuarcy of \",max_accuracy,\"is obtained with param :\",best_kernel,best_gamma,best_c,best_degree,\"(last only if kernel is poly)\")\n"
   ]
  },
  {
   "attachments": {},
   "cell_type": "markdown",
   "id": "71c10bf6",
   "metadata": {},
   "source": [
    "#### NN 1 layer : \n"
   ]
  },
  {
   "cell_type": "code",
   "execution_count": 9,
   "id": "0971203a",
   "metadata": {},
   "outputs": [],
   "source": [
    "from sklearn.neural_network import MLPClassifier\n",
    "\n",
    "from warnings import simplefilter\n",
    "from sklearn.exceptions import ConvergenceWarning\n",
    "simplefilter(\"ignore\", category=ConvergenceWarning)"
   ]
  },
  {
   "cell_type": "code",
   "execution_count": 10,
   "id": "a2c817d7",
   "metadata": {},
   "outputs": [
    {
     "name": "stdout",
     "output_type": "stream",
     "text": [
      "Maximum accuracy of  0.711111111111111 is obtained with param : 60 identity adam 0.0005\n"
     ]
    }
   ],
   "source": [
    "#for run 500 : \n",
    "max_accuracy = 0 \n",
    "best_nb_units = 0 \n",
    "best_activation = ''\n",
    "best_solver = ''\n",
    "best_learning_rate_init = 0.\n",
    "#there is yet a few additional params that we could explore \n",
    "for activation in ['identity', 'logistic', 'tanh', 'relu']:\n",
    "    for solver in ['adam']: #tested and adam is the best one \n",
    "        for learning_rate_init in [1e-5,5e-5,1e-4,5e-4,1e-3,5e-3,1e-2,5e-2]:\n",
    "            for unit in range(10,300,50): #nb of unit  \n",
    "                mlp_1_500 = MLPClassifier(random_state=150, max_iter=750,hidden_layer_sizes =(unit,1),solver=solver\n",
    "                                          ,activation=activation,learning_rate_init=learning_rate_init)\n",
    "                scores_500 = cross_val_score(mlp_1_500, list_500, label_500, cv=5)\n",
    "                \n",
    "                if scores_500.mean()> max_accuracy:\n",
    "                    max_accuracy = scores_500.mean()\n",
    "                    best_nb_units = unit\n",
    "                    best_activation = activation\n",
    "                    best_solver = solver\n",
    "                    best_learning_rate_init = learning_rate_init\n",
    "\n",
    "print(\"Maximum accuracy of \",max_accuracy,\"is obtained with param :\",best_nb_units,best_activation,best_solver,best_learning_rate_init)"
   ]
  },
  {
   "cell_type": "code",
   "execution_count": 11,
   "id": "e8b3735f",
   "metadata": {},
   "outputs": [
    {
     "name": "stdout",
     "output_type": "stream",
     "text": [
      "Maximum accuracy of  0.6977777777777777 is obtained with param : 210 identity adam 0.0005\n"
     ]
    }
   ],
   "source": [
    "#for run 510 : \n",
    "max_accuracy = 0 \n",
    "best_nb_units = 0 \n",
    "best_activation = ''\n",
    "best_solver = ''\n",
    "best_learning_rate_init = 0.\n",
    "#there is yet a few additional params that we could explore \n",
    "for activation in ['identity', 'logistic', 'tanh', 'relu']:\n",
    "    for solver in ['adam']: #tested and adam is the best one \n",
    "        for learning_rate_init in [1e-5,5e-5,1e-4,5e-4,1e-3,5e-3,1e-2,5e-2]:\n",
    "            for unit in range(10,300,50): #nb of unit  \n",
    "                mlp_1_510 = MLPClassifier(random_state=150, max_iter=750,hidden_layer_sizes =(unit,1),solver=solver\n",
    "                                          ,activation=activation,learning_rate_init=learning_rate_init)\n",
    "                scores_510 = cross_val_score(mlp_1_510, list_510, label_510, cv=5)\n",
    "                \n",
    "                if scores_510.mean()> max_accuracy:\n",
    "                    max_accuracy = scores_510.mean()\n",
    "                    best_nb_units = unit\n",
    "                    best_activation = activation\n",
    "                    best_solver = solver\n",
    "                    best_learning_rate_init = learning_rate_init\n",
    "\n",
    "print(\"Maximum accuracy of \",max_accuracy,\"is obtained with param :\",best_nb_units,best_activation,best_solver,best_learning_rate_init)"
   ]
  },
  {
   "cell_type": "code",
   "execution_count": 12,
   "id": "49c377a5",
   "metadata": {},
   "outputs": [
    {
     "name": "stdout",
     "output_type": "stream",
     "text": [
      "Maximum accuracy of  0.725 is obtained with param : 110 relu adam 0.005\n"
     ]
    }
   ],
   "source": [
    "#for run 540 : \n",
    "max_accuracy = 0 \n",
    "best_nb_units = 0 \n",
    "best_activation = ''\n",
    "best_solver = ''\n",
    "best_learning_rate_init = 0.\n",
    "#there is yet a few additional params that we could explore \n",
    "for activation in ['identity', 'logistic', 'tanh', 'relu']:\n",
    "    for solver in ['adam']: #tested and adam is the best one \n",
    "        for learning_rate_init in [1e-5,5e-5,1e-4,5e-4,1e-3,5e-3,1e-2,5e-2]:\n",
    "            for unit in range(10,300,50): #nb of unit  \n",
    "                mlp_1_540 = MLPClassifier(random_state=150, max_iter=750,hidden_layer_sizes =(unit,1),solver=solver\n",
    "                                          ,activation=activation,learning_rate_init=learning_rate_init)\n",
    "                scores_540 = cross_val_score(mlp_1_540, list_540, label_540, cv=5)\n",
    "                \n",
    "                if scores_540.mean()> max_accuracy:\n",
    "                    max_accuracy = scores_540.mean()\n",
    "                    best_nb_units = unit\n",
    "                    best_activation = activation\n",
    "                    best_solver = solver\n",
    "                    best_learning_rate_init = learning_rate_init\n",
    "\n",
    "print(\"Maximum accuracy of \",max_accuracy,\"is obtained with param :\",best_nb_units,best_activation,best_solver,best_learning_rate_init)"
   ]
  },
  {
   "cell_type": "code",
   "execution_count": 13,
   "id": "f078ed6b",
   "metadata": {},
   "outputs": [
    {
     "name": "stdout",
     "output_type": "stream",
     "text": [
      "Maximum accuracy of  0.6444444444444445 is obtained with param : 110 relu adam 0.05\n"
     ]
    }
   ],
   "source": [
    "#for run 541 : \n",
    "max_accuracy = 0 \n",
    "best_nb_units = 0 \n",
    "best_activation = ''\n",
    "best_solver = ''\n",
    "best_learning_rate_init = 0.\n",
    "#there is yet a few additional params that we could explore \n",
    "for activation in ['identity', 'logistic', 'tanh', 'relu']:\n",
    "    for solver in ['adam']: #tested and adam is the best one \n",
    "        for learning_rate_init in [1e-5,5e-5,1e-4,5e-4,1e-3,5e-3,1e-2,5e-2]:\n",
    "            for unit in range(10,300,50): #nb of unit  \n",
    "                mlp_1_541 = MLPClassifier(random_state=150, max_iter=750,hidden_layer_sizes =(unit,1),solver=solver\n",
    "                                          ,activation=activation,learning_rate_init=learning_rate_init)\n",
    "                scores_541 = cross_val_score(mlp_1_541, list_541, label_541, cv=5)\n",
    "                \n",
    "                if scores_541.mean()> max_accuracy:\n",
    "                    max_accuracy = scores_541.mean()\n",
    "                    best_nb_units = unit\n",
    "                    best_activation = activation\n",
    "                    best_solver = solver\n",
    "                    best_learning_rate_init = learning_rate_init\n",
    "\n",
    "print(\"Maximum accuracy of \",max_accuracy,\"is obtained with param :\",best_nb_units,best_activation,best_solver,best_learning_rate_init)"
   ]
  },
  {
   "cell_type": "code",
   "execution_count": 14,
   "id": "15602bf5",
   "metadata": {},
   "outputs": [
    {
     "name": "stdout",
     "output_type": "stream",
     "text": [
      "Maximum accuracy of  0.7277777777777777 is obtained with param : 160 identity adam 0.0005\n"
     ]
    }
   ],
   "source": [
    "#for run 560 : \n",
    "max_accuracy = 0 \n",
    "best_nb_units = 0 \n",
    "best_activation = ''\n",
    "best_solver = ''\n",
    "best_learning_rate_init = 0.\n",
    "#there is yet a few additional params that we could explore \n",
    "for activation in ['identity', 'logistic', 'tanh', 'relu']:\n",
    "    for solver in ['adam']: #tested and adam is the best one \n",
    "        for learning_rate_init in [1e-5,5e-5,1e-4,5e-4,1e-3,5e-3,1e-2,5e-2]:\n",
    "            for unit in range(10,300,50): #nb of unit  \n",
    "                mlp_1_560 = MLPClassifier(random_state=150, max_iter=750,hidden_layer_sizes =(unit,1),solver=solver\n",
    "                                          ,activation=activation,learning_rate_init=learning_rate_init)\n",
    "                scores_560 = cross_val_score(mlp_1_560, list_560, label_560, cv=5)\n",
    "                \n",
    "                if scores_560.mean()> max_accuracy:\n",
    "                    max_accuracy = scores_560.mean()\n",
    "                    best_nb_units = unit\n",
    "                    best_activation = activation\n",
    "                    best_solver = solver\n",
    "                    best_learning_rate_init = learning_rate_init\n",
    "\n",
    "print(\"Maximum accuracy of \",max_accuracy,\"is obtained with param :\",best_nb_units,best_activation,best_solver,best_learning_rate_init)"
   ]
  },
  {
   "cell_type": "code",
   "execution_count": null,
   "id": "619404c9",
   "metadata": {},
   "outputs": [],
   "source": []
  }
 ],
 "metadata": {
  "kernelspec": {
   "display_name": "base",
   "language": "python",
   "name": "python3"
  },
  "language_info": {
   "codemirror_mode": {
    "name": "ipython",
    "version": 3
   },
   "file_extension": ".py",
   "mimetype": "text/x-python",
   "name": "python",
   "nbconvert_exporter": "python",
   "pygments_lexer": "ipython3",
   "version": "3.9.13"
  }
 },
 "nbformat": 4,
 "nbformat_minor": 5
}
