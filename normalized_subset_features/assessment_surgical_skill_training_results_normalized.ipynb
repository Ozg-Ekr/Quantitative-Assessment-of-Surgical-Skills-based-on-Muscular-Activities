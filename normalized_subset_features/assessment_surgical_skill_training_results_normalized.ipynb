{
 "cells": [
  {
   "attachments": {},
   "cell_type": "markdown",
   "id": "c48af6b4",
   "metadata": {},
   "source": [
    "### Data loading : "
   ]
  },
  {
   "cell_type": "code",
   "execution_count": 9,
   "id": "1429687e",
   "metadata": {},
   "outputs": [],
   "source": [
    "import numpy as np \n",
    "import pandas as pd\n",
    "from os.path import dirname, join as pjoin\n",
    "import scipy.signal\n",
    "import os\n",
    "from sklearn.ensemble import RandomForestClassifier\n",
    "from sklearn.model_selection import cross_val_score\n",
    "from sklearn.svm import SVC\n",
    "from sklearn.neural_network import MLPClassifier\n"
   ]
  },
  {
   "cell_type": "code",
   "execution_count": 10,
   "id": "7bc4b41b",
   "metadata": {},
   "outputs": [],
   "source": [
    "list_500 = np.empty((0,16,9))\n",
    "list_510 = np.empty((0,16,9))\n",
    "list_540 = np.empty((0,16,9))\n",
    "list_541 = np.empty((0,16,9))\n",
    "list_560 = np.empty((0,16,9))"
   ]
  },
  {
   "cell_type": "code",
   "execution_count": 11,
   "id": "2e0077b0",
   "metadata": {},
   "outputs": [
    {
     "name": "stdout",
     "output_type": "stream",
     "text": [
      "nb files  45\n",
      "(45, 16, 9)\n",
      "nb files  46\n",
      "(46, 16, 9)\n",
      "(44, 16, 9)\n",
      "(44, 16, 9)\n",
      "(41, 16, 9)\n"
     ]
    }
   ],
   "source": [
    "data_dir = pjoin('data_features_norma_sub','run_500')\n",
    "nb_files = len(os.listdir(data_dir))\n",
    "print(\"nb files \", nb_files)\n",
    "list_500 = np.empty((nb_files,16,9))\n",
    "for i in range(nb_files):\n",
    "    path = pjoin(data_dir , f'run_500_{i}.csv')\n",
    "    data = pd.read_csv(path)\n",
    "    data = data.apply (pd.to_numeric, errors='coerce') #convert any non numeric value to Nan\n",
    "    data.fillna(0) #replaece nan values by 0\n",
    "    data.reset_index(drop=True)\n",
    "    list_500[i]= data\n",
    "print(list_500.shape)   \n",
    "\n",
    "data_dir = pjoin('data_features_norma_sub','run_510')\n",
    "nb_files = len(os.listdir(data_dir))\n",
    "print(\"nb files \", nb_files)\n",
    "list_510 = np.empty((nb_files,16,9))\n",
    "for i in range(nb_files):\n",
    "    path = pjoin(data_dir , f'run_510_{i}.csv')\n",
    "    data = pd.read_csv(path)\n",
    "    data = data.apply (pd.to_numeric, errors='coerce') #convert any non numeric value to Nan\n",
    "    data.fillna(0) #replaece nan values by 0\n",
    "    data.reset_index(drop=True)\n",
    "    list_510[i]= data\n",
    "print(list_510.shape) \n",
    "\n",
    "\n",
    "\n",
    "data_dir = pjoin('data_features_norma_sub','run_540')\n",
    "nb_files = len(os.listdir(data_dir))  \n",
    "list_540 = np.empty((nb_files,16,9))\n",
    "for i in range(nb_files):\n",
    "    path = pjoin(data_dir , f'run_540_{i}.csv')\n",
    "    data = pd.read_csv(path)\n",
    "    data = data.apply (pd.to_numeric, errors='coerce') #convert any non numeric value to Nan\n",
    "    data.fillna(0) #replaece nan values by 0\n",
    "    data.reset_index(drop=True)\n",
    "    list_540[i]= data\n",
    "print(list_540.shape) \n",
    "\n",
    "data_dir = pjoin('data_features_norma_sub','run_541')\n",
    "nb_files = len(os.listdir(data_dir))  \n",
    "list_541 = np.empty((nb_files,16,9))\n",
    "for i in range(nb_files):\n",
    "    path = pjoin(data_dir , f'run_541_{i}.csv')\n",
    "    data = pd.read_csv(path)\n",
    "    data = data.apply (pd.to_numeric, errors='coerce') #convert any non numeric value to Nan\n",
    "    data.fillna(0) #replaece nan values by 0\n",
    "    data.reset_index(drop=True)\n",
    "    list_541[i]= data\n",
    "print(list_541.shape) \n",
    "\n",
    "\n",
    "data_dir = pjoin('data_features_norma_sub','run_560')\n",
    "nb_files = len(os.listdir(data_dir))  \n",
    "list_560 = np.empty((nb_files,16,9))\n",
    "for i in range(nb_files):\n",
    "    path = pjoin(data_dir , f'run_560_{i}.csv')\n",
    "    data = pd.read_csv(path)\n",
    "    data = data.apply (pd.to_numeric, errors='coerce') #convert any non numeric value to Nan\n",
    "    data.fillna(0) #replaece nan values by 0 \n",
    "    data.reset_index(drop=True)\n",
    "    list_560[i]= data\n",
    "print(list_560.shape) "
   ]
  },
  {
   "cell_type": "code",
   "execution_count": 12,
   "id": "2089d6dc",
   "metadata": {},
   "outputs": [],
   "source": [
    "list_500 = np.reshape(list_500,(list_500.shape[0],list_500.shape[1]*list_500.shape[2]))\n",
    "list_510 = np.reshape(list_510,(list_510.shape[0],list_510.shape[1]*list_510.shape[2]))\n",
    "list_540 = np.reshape(list_540,(list_540.shape[0],list_540.shape[1]*list_540.shape[2]))\n",
    "list_541 = np.reshape(list_541,(list_541.shape[0],list_541.shape[1]*list_541.shape[2]))\n",
    "list_560 = np.reshape(list_560,(list_560.shape[0],list_560.shape[1]*list_560.shape[2]))"
   ]
  },
  {
   "cell_type": "code",
   "execution_count": 13,
   "id": "d5de836d",
   "metadata": {},
   "outputs": [],
   "source": [
    "label_500 = np.empty((list_500.shape[0]))\n",
    "label_510 = np.empty((list_510.shape[0]))\n",
    "\n",
    "label_540 = np.empty((list_540.shape[0]))\n",
    "label_541 = np.empty((list_541.shape[0]))\n",
    "\n",
    "label_560 = np.empty((list_560.shape[0]))\n",
    "\n",
    "data_dir = pjoin('data_labels_norma_sub')\n",
    "\n",
    "path = pjoin(data_dir,'label_500.csv')\n",
    "data = pd.read_csv(path)\n",
    "label_500 = data[\"0\"]\n",
    "\n",
    "path = pjoin(data_dir,'label_510.csv')\n",
    "data = pd.read_csv(path)\n",
    "label_510 = data[\"0\"]\n",
    "\n",
    "\n",
    "path = pjoin(data_dir,'label_540.csv')\n",
    "data = pd.read_csv(path)\n",
    "label_540 = data[\"0\"]\n",
    "\n",
    "path = pjoin(data_dir,'label_541.csv')\n",
    "data = pd.read_csv(path)\n",
    "label_541 = data[\"0\"]\n",
    "\n",
    "\n",
    "path = pjoin(data_dir,'label_560.csv')\n",
    "data = pd.read_csv(path)\n",
    "label_560 = data[\"0\"]"
   ]
  },
  {
   "cell_type": "code",
   "execution_count": 14,
   "id": "63cb3aa8",
   "metadata": {},
   "outputs": [],
   "source": [
    "from sklearn.model_selection import train_test_split\n",
    "x_train_500, x_test_500, y_train_500, y_test_500 = train_test_split(list_500, label_500, test_size=0.3,shuffle = True ,random_state=100)\n",
    "x_train_510, x_test_510, y_train_510, y_test_510 = train_test_split(list_510, label_510, test_size=0.3,shuffle = True ,random_state=100)\n",
    "x_train_540, x_test_540, y_train_540, y_test_540 = train_test_split(list_540, label_540, test_size=0.3,shuffle = True ,random_state=100)\n",
    "x_train_541, x_test_541, y_train_541, y_test_541 = train_test_split(list_541, label_541, test_size=0.3,shuffle = True ,random_state=100)\n",
    "x_train_560, x_test_560, y_train_560, y_test_560 = train_test_split(list_560, label_560, test_size=0.3,shuffle = True ,random_state=100)"
   ]
  },
  {
   "attachments": {},
   "cell_type": "markdown",
   "id": "2dc9b5c9",
   "metadata": {},
   "source": [
    "### Classification : "
   ]
  },
  {
   "attachments": {},
   "cell_type": "markdown",
   "id": "6d31f47b",
   "metadata": {},
   "source": [
    "#### Random forest classifier : "
   ]
  },
  {
   "cell_type": "code",
   "execution_count": 15,
   "id": "3eb7ab62",
   "metadata": {},
   "outputs": [],
   "source": [
    "from sklearn.ensemble import RandomForestClassifier\n",
    "from sklearn.model_selection import cross_val_score"
   ]
  },
  {
   "cell_type": "code",
   "execution_count": 16,
   "id": "32f77e3f",
   "metadata": {},
   "outputs": [
    {
     "name": "stdout",
     "output_type": "stream",
     "text": [
      "0.60 accuracy with a standard deviation of 0.21\n",
      "(144,)\n"
     ]
    }
   ],
   "source": [
    "rfc_500 = RandomForestClassifier(max_depth=None,class_weight='balanced',verbose=0)\n",
    "scores = cross_val_score(rfc_500, list_500, label_500, cv=5)\n",
    "print(\"%0.2f accuracy with a standard deviation of %0.2f\" % (scores.mean(), scores.std()))\n"
   ]
  },
  {
   "cell_type": "code",
   "execution_count": null,
   "id": "fbe136be",
   "metadata": {},
   "outputs": [],
   "source": [
    "\"\"\"\n",
    "y_test_500.reset_index(drop=True)\n",
    "y_test_500_array = np.asarray(y_test_500)\n",
    "compt=0\n",
    "\n",
    "for i in range(x_test_500.shape[0]):   \n",
    "    if rfc_500.predict([x_test_500[i]])[0] == y_test_500_array[i]:\n",
    "        compt +=1\n",
    "\n",
    "print(100*compt/x_test_500.shape[0],\"% accuracy for run type 500 with\",x_test_500.shape[0],\"testing data point\")\n",
    "\"\"\""
   ]
  },
  {
   "cell_type": "code",
   "execution_count": 17,
   "id": "9f8c71c2",
   "metadata": {},
   "outputs": [
    {
     "name": "stdout",
     "output_type": "stream",
     "text": [
      "0.63 accuracy with a standard deviation of 0.11\n"
     ]
    }
   ],
   "source": [
    "rfc_510 = RandomForestClassifier(max_depth=None,class_weight='balanced',verbose=0)\n",
    "scores = cross_val_score(rfc_510, list_510, label_510, cv=5)\n",
    "print(\"%0.2f accuracy with a standard deviation of %0.2f\" % (scores.mean(), scores.std()))"
   ]
  },
  {
   "cell_type": "code",
   "execution_count": 18,
   "id": "7147159c",
   "metadata": {},
   "outputs": [
    {
     "name": "stdout",
     "output_type": "stream",
     "text": [
      "0.73 accuracy with a standard deviation of 0.11\n"
     ]
    }
   ],
   "source": [
    "rfc_540 = RandomForestClassifier(max_depth=None,class_weight='balanced',verbose=0)\n",
    "scores = cross_val_score(rfc_540, list_540, label_540, cv=5)\n",
    "print(\"%0.2f accuracy with a standard deviation of %0.2f\" % (scores.mean(), scores.std()))"
   ]
  },
  {
   "cell_type": "code",
   "execution_count": 19,
   "id": "76e617e8",
   "metadata": {},
   "outputs": [
    {
     "name": "stdout",
     "output_type": "stream",
     "text": [
      "0.73 accuracy with a standard deviation of 0.11\n"
     ]
    }
   ],
   "source": [
    "rfc_541 = RandomForestClassifier(max_depth=None,class_weight='balanced',verbose=0)\n",
    "scores = cross_val_score(rfc_541, list_541, label_541, cv=5)\n",
    "print(\"%0.2f accuracy with a standard deviation of %0.2f\" % (scores.mean(), scores.std()))"
   ]
  },
  {
   "cell_type": "code",
   "execution_count": 22,
   "id": "9e78fd1f",
   "metadata": {},
   "outputs": [
    {
     "name": "stdout",
     "output_type": "stream",
     "text": [
      "0.68 accuracy with a standard deviation of 0.19\n"
     ]
    },
    {
     "data": {
      "text/plain": [
       "'\\nrfc_560.fit(list_560,label_560)\\nimportance_features = rfc_560.feature_importances_\\n\\nimportance_vector = np.zeros(14)\\n#print(importance_vector)\\nfor i in range(0,224,14):\\n    for j in range(0,14):\\n        \\n        importance_vector[j] = importance_vector[j] + importance_features[i+j]\\n        #print(\"first feature\" , i) \\n#print(importance_vector.sum())\\n#print(importance_vector)\\n#print(np.sort(importance_vector))\\n#print(importance_vector)\\n#print(np.sort(importance_vector)[5:14].sum())\\n#print(np.sort(importance_vector)[5:14])\\n'"
      ]
     },
     "execution_count": 22,
     "metadata": {},
     "output_type": "execute_result"
    }
   ],
   "source": [
    "rfc_560 = RandomForestClassifier(max_depth=None,class_weight='balanced',verbose=0)\n",
    "scores = cross_val_score(rfc_560, list_560, label_560, cv=5)\n",
    "print(\"%0.2f accuracy with a standard deviation of %0.2f\" % (scores.mean(), scores.std()))\n",
    "\n",
    "#USED FOR FINDIN THE FEATURES IMPORTANCE\n",
    "\"\"\"\n",
    "rfc_560.fit(list_560,label_560)\n",
    "importance_features = rfc_560.feature_importances_\n",
    "\n",
    "importance_vector = np.zeros(14)\n",
    "#print(importance_vector)\n",
    "for i in range(0,224,14):\n",
    "    for j in range(0,14):\n",
    "        \n",
    "        importance_vector[j] = importance_vector[j] + importance_features[i+j]\n",
    "        #print(\"first feature\" , i) \n",
    "#print(importance_vector.sum())\n",
    "#print(importance_vector)\n",
    "#print(np.sort(importance_vector))\n",
    "#print(importance_vector)\n",
    "#print(np.sort(importance_vector)[5:14].sum())\n",
    "#print(np.sort(importance_vector)[5:14])\n",
    "\"\"\""
   ]
  },
  {
   "attachments": {},
   "cell_type": "markdown",
   "id": "45db032b",
   "metadata": {},
   "source": [
    "#### SVM : "
   ]
  },
  {
   "cell_type": "code",
   "execution_count": 23,
   "id": "b8ad93fe",
   "metadata": {},
   "outputs": [],
   "source": [
    "from sklearn.svm import SVC"
   ]
  },
  {
   "attachments": {},
   "cell_type": "markdown",
   "id": "4c411834",
   "metadata": {},
   "source": [
    "##### SVM for run_500"
   ]
  },
  {
   "attachments": {},
   "cell_type": "markdown",
   "id": "dcfbeb6f",
   "metadata": {},
   "source": [
    "##### for run_500"
   ]
  },
  {
   "attachments": {},
   "cell_type": "markdown",
   "id": "4d9b53b7",
   "metadata": {},
   "source": [
    "first general search "
   ]
  },
  {
   "cell_type": "code",
   "execution_count": 24,
   "id": "f41a6170",
   "metadata": {},
   "outputs": [
    {
     "name": "stdout",
     "output_type": "stream",
     "text": [
      "Maximum accuarcy of  0.711111111111111 is obtained with param : poly auto 3 1 (last only if kernel is poly)\n"
     ]
    }
   ],
   "source": [
    "max_accuracy = 0\n",
    "\n",
    "best_kernel = ''\n",
    "best_gamma = ''\n",
    "best_c = 0.\n",
    "best_degree = 0.\n",
    "\n",
    "degree = 1\n",
    "for kernel in ['linear', 'poly', 'rbf', 'sigmoid']:\n",
    "    for gamma in ['auto','scale']:\n",
    "        for c in[0.01,0.1,0.2,0.3,0.5,1.0,1.5,2,3,5,10,20,30,50,100,250,500,1000]:\n",
    "            if kernel == 'poly':\n",
    "                for degree in range(1,30):\n",
    "\n",
    "                    svm_500= SVC(gamma=gamma,kernel=kernel,class_weight='balanced',C=c, degree=degree,max_iter= -1,verbose=0)\n",
    "                    scores_500 = cross_val_score(svm_500, list_500, label_500, cv=5)\n",
    "\n",
    "                    if scores_500.mean()> max_accuracy:\n",
    "                        max_accuracy = scores_500.mean()\n",
    "                        best_kernel = kernel\n",
    "                        best_gamma= gamma\n",
    "                        best_c = c\n",
    "                        best_degree = degree\n",
    "\n",
    "          \n",
    "            else :\n",
    "                svm_500= SVC(gamma=gamma,kernel=kernel,class_weight='balanced',C=c,max_iter= -1,verbose=0)\n",
    "                scores_500 = cross_val_score(svm_500, list_500, label_500, cv=5)\n",
    "\n",
    "                if scores_500.mean()> max_accuracy:\n",
    "                    max_accuracy = scores_500.mean()\n",
    "                    best_kernel = kernel\n",
    "                    best_gamma= gamma\n",
    "                    best_c = c\n",
    "                    best_degree = degree\n",
    "\n",
    "print(\"Maximum accuarcy of \",max_accuracy,\"is obtained with param :\",best_kernel,best_gamma,best_c,best_degree,\"(last only if kernel is poly)\")\n",
    "\n",
    "\n",
    "    "
   ]
  },
  {
   "cell_type": "code",
   "execution_count": 25,
   "id": "cc9feb94",
   "metadata": {},
   "outputs": [
    {
     "name": "stdout",
     "output_type": "stream",
     "text": [
      "Maximum accuarcy of  0.711111111111111 0.1855921454276674 is obtained with param : poly auto 4.0001 1 (last only if kernel is poly)\n"
     ]
    }
   ],
   "source": [
    "max_accuracy = 0\n",
    "\n",
    "best_kernel = ''\n",
    "best_gamma = ''\n",
    "best_c = 0.\n",
    "best_degree = 0.\n",
    "\n",
    "degree = 1\n",
    "for kernel in ['linear', 'poly', 'rbf', 'sigmoid']:\n",
    "    for gamma in ['auto','scale']:\n",
    "        for c in np.arange (0.0001,5,0.25):\n",
    "            if kernel == 'poly':\n",
    "                for degree in range(1,30):\n",
    "\n",
    "                    svm_500= SVC(gamma=gamma,kernel=kernel,class_weight='balanced',C=c, degree=degree,max_iter= -1,verbose=0)\n",
    "                    scores_500 = cross_val_score(svm_500, list_500, label_500, cv=5)\n",
    "\n",
    "                    if scores_500.mean()> max_accuracy:\n",
    "                        max_accuracy = scores_500.mean()\n",
    "                        best_kernel = kernel\n",
    "                        best_gamma= gamma\n",
    "                        best_c = c\n",
    "                        best_degree = degree\n",
    "\n",
    "          \n",
    "            else :\n",
    "                svm_500= SVC(gamma=gamma,kernel=kernel,class_weight='balanced',C=c,max_iter= -1,verbose=0)\n",
    "                scores_500 = cross_val_score(svm_500, list_500, label_500, cv=5)\n",
    "\n",
    "                if scores_500.mean()> max_accuracy:\n",
    "                    max_accuracy = scores_500.mean()\n",
    "                    best_kernel = kernel\n",
    "                    best_gamma= gamma\n",
    "                    best_c = c\n",
    "                    best_degree = degree\n",
    "\n",
    "print(\"Maximum accuarcy of \",max_accuracy, scores.std(),\"is obtained with param :\",best_kernel,best_gamma,best_c,best_degree,\"(last only if kernel is poly)\")\n",
    "\n",
    "\n",
    "    "
   ]
  },
  {
   "attachments": {},
   "cell_type": "markdown",
   "id": "154558da",
   "metadata": {},
   "source": [
    "##### SVM for run_510"
   ]
  },
  {
   "attachments": {},
   "cell_type": "markdown",
   "id": "cc1df740",
   "metadata": {},
   "source": [
    "first general search :"
   ]
  },
  {
   "cell_type": "code",
   "execution_count": 26,
   "id": "4a60f9ce",
   "metadata": {},
   "outputs": [
    {
     "name": "stdout",
     "output_type": "stream",
     "text": [
      "Maximum accuarcy of  0.7666666666666666 is obtained with param : poly scale 1 11 (last only if kernel is poly)\n"
     ]
    }
   ],
   "source": [
    "max_accuracy = 0\n",
    "\n",
    "best_kernel = ''\n",
    "best_gamma = ''\n",
    "best_c = 0.\n",
    "best_degree = 0.\n",
    "\n",
    "degree = 1\n",
    "for kernel in ['linear', 'poly', 'rbf', 'sigmoid']:\n",
    "    for gamma in ['auto','scale']:\n",
    "        for c in[1,2,5,10,50,100,1000,2500,5000,10000,50000,1e6,1e10]:\n",
    "            if kernel == 'poly':\n",
    "                for degree in range(1,30):\n",
    "\n",
    "                    svm_510= SVC(gamma=gamma,kernel=kernel,class_weight='balanced',C=c, degree=degree,max_iter= -1,verbose=0)\n",
    "                    scores_510 = cross_val_score(svm_510, list_510, label_510, cv=5)\n",
    "\n",
    "                    if scores_510.mean()> max_accuracy:\n",
    "                        max_accuracy = scores_510.mean()\n",
    "                        best_kernel = kernel\n",
    "                        best_gamma= gamma\n",
    "                        best_c = c\n",
    "                        best_degree = degree\n",
    "\n",
    "          \n",
    "            else :\n",
    "                svm_510= SVC(gamma=gamma,kernel=kernel,class_weight='balanced',C=c,max_iter= -1,verbose=0)\n",
    "                scores_510 = cross_val_score(svm_510, list_510, label_510, cv=5)\n",
    "\n",
    "                if scores_510.mean()> max_accuracy:\n",
    "                    max_accuracy = scores_510.mean()\n",
    "                    best_kernel = kernel\n",
    "                    best_gamma= gamma\n",
    "                    best_c = c\n",
    "                    best_degree = degree\n",
    "\n",
    "print(\"Maximum accuarcy of \",max_accuracy,\"is obtained with param :\",best_kernel,best_gamma,best_c,best_degree,\"(last only if kernel is poly)\")\n",
    "\n",
    "\n",
    "    "
   ]
  },
  {
   "attachments": {},
   "cell_type": "markdown",
   "id": "02b2806e",
   "metadata": {},
   "source": [
    "more precise : "
   ]
  },
  {
   "cell_type": "code",
   "execution_count": 27,
   "id": "b22cbfb3",
   "metadata": {},
   "outputs": [
    {
     "name": "stdout",
     "output_type": "stream",
     "text": [
      "Maximum accuarcy of  0.7666666666666666 0.1855921454276674 is obtained with param : poly scale 0.2501 13 (last only if kernel is poly)\n"
     ]
    }
   ],
   "source": [
    "max_accuracy = 0\n",
    "\n",
    "best_kernel = ''\n",
    "best_gamma = ''\n",
    "best_c = 0.\n",
    "best_degree = 0.\n",
    "\n",
    "degree = 1\n",
    "for kernel in ['linear', 'poly', 'rbf', 'sigmoid']:\n",
    "    for gamma in ['auto','scale']:\n",
    "        for c in np.arange(0.0001,5,0.25):\n",
    "            if kernel == 'poly':\n",
    "                for degree in range(1,30):\n",
    "\n",
    "                    svm_510= SVC(gamma=gamma,kernel=kernel,class_weight='balanced',C=c, degree=degree,max_iter= -1,verbose=0)\n",
    "                    scores_510 = cross_val_score(svm_510, list_510, label_510, cv=5)\n",
    "\n",
    "                    if scores_510.mean()> max_accuracy:\n",
    "                        max_accuracy = scores_510.mean()\n",
    "                        best_kernel = kernel\n",
    "                        best_gamma= gamma\n",
    "                        best_c = c\n",
    "                        best_degree = degree\n",
    "\n",
    "          \n",
    "            else :\n",
    "                svm_510= SVC(gamma=gamma,kernel=kernel,class_weight='balanced',C=c,max_iter= -1,verbose=0)\n",
    "                scores_510 = cross_val_score(svm_510, list_510, label_510, cv=5)\n",
    "\n",
    "                if scores_510.mean()> max_accuracy:\n",
    "                    max_accuracy = scores_510.mean()\n",
    "                    best_kernel = kernel\n",
    "                    best_gamma= gamma\n",
    "                    best_c = c\n",
    "                    best_degree = degree\n",
    "\n",
    "print(\"Maximum accuarcy of \",max_accuracy, scores.std(),\"is obtained with param :\",best_kernel,best_gamma,best_c,best_degree,\"(last only if kernel is poly)\")\n",
    "\n",
    "\n",
    "    "
   ]
  },
  {
   "attachments": {},
   "cell_type": "markdown",
   "id": "33da62af",
   "metadata": {},
   "source": [
    "##### Run 540 \n"
   ]
  },
  {
   "cell_type": "code",
   "execution_count": 28,
   "id": "b676b937",
   "metadata": {},
   "outputs": [
    {
     "name": "stdout",
     "output_type": "stream",
     "text": [
      "Maximum accuarcy of  0.8416666666666666 0.1855921454276674 is obtained with param : poly scale 0.2 16 (last only if kernel is poly)\n"
     ]
    }
   ],
   "source": [
    "max_accuracy = 0\n",
    "\n",
    "best_kernel = ''\n",
    "best_gamma = ''\n",
    "best_c = 0.,\n",
    "best_degree = 0.\n",
    "\n",
    "degree = 1\n",
    "for kernel in ['linear', 'poly', 'rbf', 'sigmoid']:\n",
    "    for gamma in ['auto','scale']:\n",
    "        for c in[0.01,0.1,0.2,0.3,0.5,1.0,1.5,2,3,5,10,20,30,50,100,250,500,1000]:\n",
    "            if kernel == 'poly':\n",
    "                for degree in range(1,30):\n",
    "\n",
    "                    svm_540= SVC(gamma=gamma,kernel=kernel,class_weight='balanced',C=c, degree=degree,max_iter= -1,verbose=0)\n",
    "                    scores_540 = cross_val_score(svm_540, list_540, label_540, cv=5)\n",
    "\n",
    "                    if scores_540.mean()> max_accuracy:\n",
    "                        max_accuracy = scores_540.mean()\n",
    "                        best_kernel = kernel\n",
    "                        best_gamma= gamma\n",
    "                        best_c = c\n",
    "                        best_degree = degree\n",
    "\n",
    "          \n",
    "            else :\n",
    "                svm_540= SVC(gamma=gamma,kernel=kernel,class_weight='balanced',C=c,max_iter= -1,verbose=0)\n",
    "                scores_540 = cross_val_score(svm_540, list_540, label_540, cv=5)\n",
    "\n",
    "                if scores_540.mean()> max_accuracy:\n",
    "                    max_accuracy = scores_540.mean()\n",
    "                    best_kernel = kernel\n",
    "                    best_gamma= gamma\n",
    "                    best_c = c\n",
    "                    best_degree = degree\n",
    "\n",
    "print(\"Maximum accuarcy of \",max_accuracy,scores.std(),\"is obtained with param :\",best_kernel,best_gamma,best_c,best_degree,\"(last only if kernel is poly)\")\n"
   ]
  },
  {
   "attachments": {},
   "cell_type": "markdown",
   "id": "a589c439",
   "metadata": {},
   "source": [
    "more precise :"
   ]
  },
  {
   "cell_type": "code",
   "execution_count": 29,
   "id": "320a30cd",
   "metadata": {},
   "outputs": [
    {
     "name": "stdout",
     "output_type": "stream",
     "text": [
      "Maximum accuarcy of  0.8416666666666666 0.1855921454276674 is obtained with param : poly scale 0.1501 16 (last only if kernel is poly)\n"
     ]
    }
   ],
   "source": [
    "max_accuracy = 0\n",
    "\n",
    "best_kernel = ''\n",
    "best_gamma = ''\n",
    "best_c = 0.,\n",
    "best_degree = 0.\n",
    "\n",
    "degree = 1\n",
    "for kernel in ['linear', 'poly', 'rbf', 'sigmoid']:\n",
    "    for gamma in ['auto','scale']:\n",
    "        for c in np.arange(0.0001,0.7,0.05):\n",
    "            if kernel == 'poly':\n",
    "                for degree in range(1,30):\n",
    "\n",
    "                    svm_540= SVC(gamma=gamma,kernel=kernel,class_weight='balanced',C=c, degree=degree,max_iter= -1,verbose=0)\n",
    "                    scores_540 = cross_val_score(svm_540, list_540, label_540, cv=5)\n",
    "\n",
    "                    if scores_540.mean()> max_accuracy:\n",
    "                        max_accuracy = scores_540.mean()\n",
    "                        best_kernel = kernel\n",
    "                        best_gamma= gamma\n",
    "                        best_c = c\n",
    "                        best_degree = degree\n",
    "\n",
    "          \n",
    "            else :\n",
    "                svm_540= SVC(gamma=gamma,kernel=kernel,class_weight='balanced',C=c,max_iter= -1,verbose=0)\n",
    "                scores_540 = cross_val_score(svm_540, list_540, label_540, cv=5)\n",
    "\n",
    "                if scores_540.mean()> max_accuracy:\n",
    "                    max_accuracy = scores_540.mean()\n",
    "                    best_kernel = kernel\n",
    "                    best_gamma= gamma\n",
    "                    best_c = c\n",
    "                    best_degree = degree\n",
    "\n",
    "print(\"Maximum accuarcy of \",max_accuracy,scores.std(),\"is obtained with param :\",best_kernel,best_gamma,best_c,best_degree,\"(last only if kernel is poly)\")\n"
   ]
  },
  {
   "attachments": {},
   "cell_type": "markdown",
   "id": "29fcb147",
   "metadata": {},
   "source": [
    "##### for run_541 :"
   ]
  },
  {
   "attachments": {},
   "cell_type": "markdown",
   "id": "158bba6e",
   "metadata": {},
   "source": [
    "general search : "
   ]
  },
  {
   "cell_type": "code",
   "execution_count": 30,
   "id": "cdf766af",
   "metadata": {},
   "outputs": [
    {
     "name": "stdout",
     "output_type": "stream",
     "text": [
      "Maximum accuarcy of  0.775 0.1855921454276674 is obtained with param : linear auto 1000 1 (last only if kernel is poly)\n"
     ]
    }
   ],
   "source": [
    "max_accuracy = 0\n",
    "\n",
    "best_kernel = ''\n",
    "best_gamma = ''\n",
    "best_c = 0.,\n",
    "best_degree = 0.\n",
    "\n",
    "degree = 1\n",
    "for kernel in ['linear', 'poly', 'rbf', 'sigmoid']:\n",
    "    for gamma in ['auto','scale']:\n",
    "        for c in[0.01,0.1,0.2,0.3,0.5,1.0,1.5,2,3,5,10,20,30,50,100,250,500,1000]:\n",
    "            if kernel == 'poly':\n",
    "                for degree in range(1,30):\n",
    "\n",
    "                    svm_541= SVC(gamma=gamma,kernel=kernel,class_weight='balanced',C=c, degree=degree,max_iter= -1,verbose=0)\n",
    "                    scores_541 = cross_val_score(svm_541, list_541, label_541, cv=5)\n",
    "\n",
    "                    if scores_541.mean()> max_accuracy:\n",
    "                        max_accuracy = scores_541.mean()\n",
    "                        best_kernel = kernel\n",
    "                        best_gamma= gamma\n",
    "                        best_c = c\n",
    "                        best_degree = degree\n",
    "\n",
    "          \n",
    "            else :\n",
    "                svm_541= SVC(gamma=gamma,kernel=kernel,class_weight='balanced',C=c,max_iter= -1,verbose=0)\n",
    "                scores_541 = cross_val_score(svm_541, list_541, label_541, cv=5)\n",
    "\n",
    "                if scores_541.mean()> max_accuracy:\n",
    "                    max_accuracy = scores_541.mean()\n",
    "                    best_kernel = kernel\n",
    "                    best_gamma= gamma\n",
    "                    best_c = c\n",
    "                    best_degree = degree\n",
    "\n",
    "print(\"Maximum accuarcy of \",max_accuracy,scores.std(),\"is obtained with param :\",best_kernel,best_gamma,best_c,best_degree,\"(last only if kernel is poly)\")\n"
   ]
  },
  {
   "attachments": {},
   "cell_type": "markdown",
   "id": "bb5dc326",
   "metadata": {},
   "source": [
    "more precise : "
   ]
  },
  {
   "cell_type": "code",
   "execution_count": 31,
   "id": "6eb9d497",
   "metadata": {},
   "outputs": [
    {
     "name": "stdout",
     "output_type": "stream",
     "text": [
      "Maximum accuarcy of  0.7972222222222222 0.1855921454276674 is obtained with param : poly scale 1800 2 (last only if kernel is poly)\n"
     ]
    }
   ],
   "source": [
    "max_accuracy = 0\n",
    "\n",
    "best_kernel = ''\n",
    "best_gamma = ''\n",
    "best_c = 0.,\n",
    "best_degree = 0.\n",
    "\n",
    "degree = 1\n",
    "for kernel in ['linear', 'poly', 'rbf', 'sigmoid']:\n",
    "    for gamma in ['auto','scale']:\n",
    "        for c in np.arange(500,2000,50):\n",
    "            if kernel == 'poly':\n",
    "                for degree in range(1,20):\n",
    "\n",
    "                    svm_541= SVC(gamma=gamma,kernel=kernel,class_weight='balanced',C=c, degree=degree,max_iter= -1,verbose=0)\n",
    "                    scores_541 = cross_val_score(svm_541, list_541, label_541, cv=5)\n",
    "\n",
    "                    if scores_541.mean()> max_accuracy:\n",
    "                        max_accuracy = scores_541.mean()\n",
    "                        best_kernel = kernel\n",
    "                        best_gamma= gamma\n",
    "                        best_c = c\n",
    "                        best_degree = degree\n",
    "\n",
    "          \n",
    "            else :\n",
    "                svm_541= SVC(gamma=gamma,kernel=kernel,class_weight='balanced',C=c,max_iter= -1,verbose=0)\n",
    "                scores_541 = cross_val_score(svm_541, list_541, label_541, cv=5)\n",
    "\n",
    "                if scores_541.mean()> max_accuracy:\n",
    "                    max_accuracy = scores_541.mean()\n",
    "                    best_kernel = kernel\n",
    "                    best_gamma= gamma\n",
    "                    best_c = c\n",
    "                    best_degree = degree\n",
    "\n",
    "print(\"Maximum accuarcy of \",max_accuracy,scores.std(),\"is obtained with param :\",best_kernel,best_gamma,best_c,best_degree,\"(last only if kernel is poly)\")\n"
   ]
  },
  {
   "attachments": {},
   "cell_type": "markdown",
   "id": "87096bac",
   "metadata": {},
   "source": [
    "even more precise :"
   ]
  },
  {
   "cell_type": "code",
   "execution_count": 32,
   "id": "995947fc",
   "metadata": {},
   "outputs": [
    {
     "name": "stdout",
     "output_type": "stream",
     "text": [
      "Maximum accuarcy of  0.7972222222222222 0.1855921454276674 is obtained with param : poly scale 1800 2 (last only if kernel is poly)\n"
     ]
    }
   ],
   "source": [
    "max_accuracy = 0\n",
    "\n",
    "best_kernel = ''\n",
    "best_gamma = ''\n",
    "best_c = 0.,\n",
    "best_degree = 0.\n",
    "\n",
    "degree = 1\n",
    "for kernel in ['linear', 'poly', 'rbf', 'sigmoid']:\n",
    "    for gamma in ['auto','scale']:\n",
    "        for c in np.arange(1700,1900,10):\n",
    "            if kernel == 'poly':\n",
    "                for degree in range(1,30):\n",
    "\n",
    "                    svm_541= SVC(gamma=gamma,kernel=kernel,class_weight='balanced',C=c, degree=degree,max_iter= -1,verbose=0)\n",
    "                    scores_541 = cross_val_score(svm_541, list_541, label_541, cv=5)\n",
    "\n",
    "                    if scores_541.mean()> max_accuracy:\n",
    "                        max_accuracy = scores_541.mean()\n",
    "                        best_kernel = kernel\n",
    "                        best_gamma= gamma\n",
    "                        best_c = c\n",
    "                        best_degree = degree\n",
    "\n",
    "          \n",
    "            else :\n",
    "                svm_541= SVC(gamma=gamma,kernel=kernel,class_weight='balanced',C=c,max_iter= -1,verbose=0)\n",
    "                scores_541 = cross_val_score(svm_541, list_541, label_541, cv=5)\n",
    "\n",
    "                if scores_541.mean()> max_accuracy:\n",
    "                    max_accuracy = scores_541.mean()\n",
    "                    best_kernel = kernel\n",
    "                    best_gamma= gamma\n",
    "                    best_c = c\n",
    "                    best_degree = degree\n",
    "\n",
    "print(\"Maximum accuarcy of \",max_accuracy,scores.std(),\"is obtained with param :\",best_kernel,best_gamma,best_c,best_degree,\"(last only if kernel is poly)\")\n"
   ]
  },
  {
   "attachments": {},
   "cell_type": "markdown",
   "id": "b3f05c13",
   "metadata": {},
   "source": [
    "##### Run 560 "
   ]
  },
  {
   "attachments": {},
   "cell_type": "markdown",
   "id": "e79aa010",
   "metadata": {},
   "source": [
    "general search : "
   ]
  },
  {
   "cell_type": "code",
   "execution_count": 33,
   "id": "2c5abadf",
   "metadata": {},
   "outputs": [
    {
     "name": "stdout",
     "output_type": "stream",
     "text": [
      "Maximum accuarcy of  0.736111111111111 0.1855921454276674 is obtained with param : poly scale 0.01 24 (last only if kernel is poly)\n"
     ]
    }
   ],
   "source": [
    "max_accuracy = 0\n",
    "\n",
    "best_kernel = ''\n",
    "best_gamma = ''\n",
    "best_c = 0.,\n",
    "best_degree = 0.\n",
    "\n",
    "degree = 1\n",
    "for kernel in ['linear', 'poly', 'rbf', 'sigmoid']:\n",
    "    for gamma in ['auto','scale']:\n",
    "        for c in[0.01,0.1,0.2,0.3,0.5,1.0,1.5,2,3,5,10,20,30,50,100,250,500,1000]:\n",
    "            if kernel == 'poly':\n",
    "                for degree in range(1,30):\n",
    "\n",
    "                    svm_560= SVC(gamma=gamma,kernel=kernel,class_weight='balanced',C=c, degree=degree,max_iter= -1,verbose=0)\n",
    "                    scores_560 = cross_val_score(svm_560, list_560, label_560, cv=5)\n",
    "\n",
    "                    if scores_560.mean()> max_accuracy:\n",
    "                        max_accuracy = scores_560.mean()\n",
    "                        best_kernel = kernel\n",
    "                        best_gamma= gamma\n",
    "                        best_c = c\n",
    "                        best_degree = degree\n",
    "\n",
    "          \n",
    "            else :\n",
    "                svm_560= SVC(gamma=gamma,kernel=kernel,class_weight='balanced',C=c,max_iter= -1,verbose=0)\n",
    "                scores_560 = cross_val_score(svm_560, list_560, label_560, cv=5)\n",
    "\n",
    "                if scores_560.mean()> max_accuracy:\n",
    "                    max_accuracy = scores_560.mean()\n",
    "                    best_kernel = kernel\n",
    "                    best_gamma= gamma\n",
    "                    best_c = c\n",
    "                    best_degree = degree\n",
    "\n",
    "print(\"Maximum accuarcy of \",max_accuracy,scores.std(),\"is obtained with param :\",best_kernel,best_gamma,best_c,best_degree,\"(last only if kernel is poly)\")\n"
   ]
  },
  {
   "cell_type": "code",
   "execution_count": 34,
   "id": "87283a41",
   "metadata": {},
   "outputs": [
    {
     "name": "stdout",
     "output_type": "stream",
     "text": [
      "Maximum accuarcy of  0.8055555555555556 0.12741494379088572 is obtained with param : poly scale 0.001 39 (last only if kernel is poly)\n"
     ]
    }
   ],
   "source": [
    "#more precise : \n",
    "max_accuracy = 0\n",
    "\n",
    "best_kernel = ''\n",
    "best_gamma = ''\n",
    "best_c = 0.,\n",
    "best_degree = 0.\n",
    "\n",
    "degree = 1\n",
    "for kernel in ['linear', 'poly', 'rbf', 'sigmoid']:\n",
    "    for gamma in ['auto','scale']:\n",
    "        for c in np.arange(0.001,0.1,0.005):\n",
    "            if kernel == 'poly':\n",
    "                for degree in range(1,40):\n",
    "\n",
    "                    svm_560= SVC(gamma=gamma,kernel=kernel,class_weight='balanced',C=c, degree=degree,max_iter= -1,verbose=0)\n",
    "                    scores_560 = cross_val_score(svm_560, list_560, label_560, cv=5)\n",
    "\n",
    "                    if scores_560.mean()> max_accuracy:\n",
    "                        max_accuracy = scores_560.mean()\n",
    "                        best_kernel = kernel\n",
    "                        best_gamma= gamma\n",
    "                        best_c = c\n",
    "                        best_degree = degree\n",
    "\n",
    "          \n",
    "            else :\n",
    "                svm_560= SVC(gamma=gamma,kernel=kernel,class_weight='balanced',C=c,max_iter= -1,verbose=0)\n",
    "                scores_560 = cross_val_score(svm_560, list_560, label_560, cv=5)\n",
    "\n",
    "                if scores_560.mean()> max_accuracy:\n",
    "                    max_accuracy = scores_560.mean()\n",
    "                    best_kernel = kernel\n",
    "                    best_gamma= gamma\n",
    "                    best_c = c\n",
    "                    best_degree = degree\n",
    "\n",
    "print(\"Maximum accuarcy of \",max_accuracy,scores_560.std(),\"is obtained with param :\",best_kernel,best_gamma,best_c,best_degree,\"(last only if kernel is poly)\")\n"
   ]
  },
  {
   "attachments": {},
   "cell_type": "markdown",
   "id": "68c84b35",
   "metadata": {},
   "source": [
    "#### Neural Network one layer : "
   ]
  },
  {
   "cell_type": "code",
   "execution_count": 35,
   "id": "31cf7de7",
   "metadata": {},
   "outputs": [],
   "source": [
    "from sklearn.neural_network import MLPClassifier\n",
    "\n",
    "from warnings import simplefilter\n",
    "from sklearn.exceptions import ConvergenceWarning\n",
    "simplefilter(\"ignore\", category=ConvergenceWarning)"
   ]
  },
  {
   "cell_type": "code",
   "execution_count": 36,
   "id": "5ff3b73f",
   "metadata": {},
   "outputs": [
    {
     "name": "stdout",
     "output_type": "stream",
     "text": [
      "Maximum accuracy of  0.7333333333333333 is obtained with param : 260 identity adam 1e-05\n"
     ]
    }
   ],
   "source": [
    "#for run 500 : \n",
    "max_accuracy = 0 \n",
    "best_nb_units = 0 \n",
    "best_activation = ''\n",
    "best_solver = ''\n",
    "best_learning_rate_init = 0.\n",
    "#there is yet a few additional params that we could explore \n",
    "for activation in ['identity', 'logistic', 'tanh', 'relu']:\n",
    "    for solver in ['adam']: #tested and adam is the best one \n",
    "        for learning_rate_init in [1e-5,5e-5,1e-4,5e-4,1e-3,5e-3,1e-2,5e-2]:\n",
    "            for unit in range(10,300,50): #nb of unit  \n",
    "                mlp_1_500 = MLPClassifier(random_state=150, max_iter=750,hidden_layer_sizes =(unit,1),solver=solver\n",
    "                                          ,activation=activation,learning_rate_init=learning_rate_init)\n",
    "                scores_500 = cross_val_score(mlp_1_500, list_500, label_500, cv=5)\n",
    "                \n",
    "                if scores_500.mean()> max_accuracy:\n",
    "                    max_accuracy = scores_500.mean()\n",
    "                    best_nb_units = unit\n",
    "                    best_activation = activation\n",
    "                    best_solver = solver\n",
    "                    best_learning_rate_init = learning_rate_init\n",
    "\n",
    "print(\"Maximum accuracy of \",max_accuracy,\"is obtained with param :\",best_nb_units,best_activation,best_solver,best_learning_rate_init)"
   ]
  },
  {
   "cell_type": "code",
   "execution_count": 37,
   "id": "dc03901c",
   "metadata": {},
   "outputs": [
    {
     "name": "stdout",
     "output_type": "stream",
     "text": [
      "Maximum accuracy of  0.76 0.04444444444444447 is obtained with param : 160 tanh adam 0.001\n"
     ]
    }
   ],
   "source": [
    "#for run 510 : \n",
    "max_accuracy = 0 \n",
    "best_nb_units = 0 \n",
    "best_activation = ''\n",
    "best_solver = ''\n",
    "best_learning_rate_init = 0.\n",
    "#there is yet a few additional params that we could explore \n",
    "for activation in ['identity', 'logistic', 'tanh', 'relu']:\n",
    "    for solver in ['adam']: #tested and adam is the best one \n",
    "        for learning_rate_init in [1e-5,5e-5,1e-4,5e-4,1e-3,5e-3,1e-2,5e-2]:\n",
    "            for unit in range(10,300,50): #nb of unit  \n",
    "                mlp_1_510 = MLPClassifier(random_state=150, max_iter=750,hidden_layer_sizes =(unit,1),solver=solver\n",
    "                                          ,activation=activation,learning_rate_init=learning_rate_init)\n",
    "                scores_510 = cross_val_score(mlp_1_510, list_510, label_510, cv=5)\n",
    "                \n",
    "                if scores_510.mean()> max_accuracy:\n",
    "                    max_accuracy = scores_510.mean()\n",
    "                    best_nb_units = unit\n",
    "                    best_activation = activation\n",
    "                    best_solver = solver\n",
    "                    best_learning_rate_init = learning_rate_init\n",
    "\n",
    "print(\"Maximum accuracy of \",max_accuracy,scores_510.std(),\"is obtained with param :\",best_nb_units,best_activation,best_solver,best_learning_rate_init)"
   ]
  },
  {
   "cell_type": "code",
   "execution_count": 38,
   "id": "acd9ed40",
   "metadata": {},
   "outputs": [
    {
     "name": "stdout",
     "output_type": "stream",
     "text": [
      "Maximum accuracy of  0.7749999999999999 0.04444444444444447 is obtained with param : 60 identity adam 0.005\n"
     ]
    }
   ],
   "source": [
    "#for run 540 : \n",
    "max_accuracy = 0 \n",
    "best_nb_units = 0 \n",
    "best_activation = ''\n",
    "best_solver = ''\n",
    "best_learning_rate_init = 0.\n",
    "#there is yet a few additional params that we could explore \n",
    "for activation in ['identity', 'logistic', 'tanh', 'relu']:\n",
    "    for solver in ['adam']: #tested and adam is the best one \n",
    "        for learning_rate_init in [1e-5,5e-5,1e-4,5e-4,1e-3,5e-3,1e-2,5e-2]:\n",
    "            for unit in range(10,300,50): #nb of unit  \n",
    "                mlp_1_540 = MLPClassifier(random_state=150, max_iter=750,hidden_layer_sizes =(unit,1),solver=solver\n",
    "                                          ,activation=activation,learning_rate_init=learning_rate_init)\n",
    "                scores_540 = cross_val_score(mlp_1_540, list_540, label_540, cv=5)\n",
    "                \n",
    "                if scores_540.mean()> max_accuracy:\n",
    "                    max_accuracy = scores_540.mean()\n",
    "                    best_nb_units = unit\n",
    "                    best_activation = activation\n",
    "                    best_solver = solver\n",
    "                    best_learning_rate_init = learning_rate_init\n",
    "\n",
    "print(\"Maximum accuracy of \",max_accuracy,scores_540.std(),\"is obtained with param :\",best_nb_units,best_activation,best_solver,best_learning_rate_init)"
   ]
  },
  {
   "cell_type": "code",
   "execution_count": 39,
   "id": "0d229a98",
   "metadata": {},
   "outputs": [
    {
     "name": "stdout",
     "output_type": "stream",
     "text": [
      "Maximum accuracy of  0.7777777777777778 0.04444444444444447 is obtained with param : 260 identity adam 0.0005\n"
     ]
    }
   ],
   "source": [
    "#for run 541 : \n",
    "max_accuracy = 0 \n",
    "best_nb_units = 0 \n",
    "best_activation = ''\n",
    "best_solver = ''\n",
    "best_learning_rate_init = 0.\n",
    "#there is yet a few additional params that we could explore \n",
    "for activation in ['identity', 'logistic', 'tanh', 'relu']:\n",
    "    for solver in ['adam']: #tested and adam is the best one \n",
    "        for learning_rate_init in [1e-5,5e-5,1e-4,5e-4,1e-3,5e-3,1e-2,5e-2]:\n",
    "            for unit in range(10,300,50): #nb of unit  \n",
    "                mlp_1_541 = MLPClassifier(random_state=150, max_iter=750,hidden_layer_sizes =(unit,1),solver=solver\n",
    "                                          ,activation=activation,learning_rate_init=learning_rate_init)\n",
    "                scores_541 = cross_val_score(mlp_1_541, list_541, label_541, cv=5)\n",
    "                \n",
    "                if scores_541.mean()> max_accuracy:\n",
    "                    max_accuracy = scores_541.mean()\n",
    "                    best_nb_units = unit\n",
    "                    best_activation = activation\n",
    "                    best_solver = solver\n",
    "                    best_learning_rate_init = learning_rate_init\n",
    "\n",
    "print(\"Maximum accuracy of \",max_accuracy,scores_541.std(),\"is obtained with param :\",best_nb_units,best_activation,best_solver,best_learning_rate_init)"
   ]
  },
  {
   "cell_type": "code",
   "execution_count": 40,
   "id": "83b3848c",
   "metadata": {},
   "outputs": [
    {
     "name": "stdout",
     "output_type": "stream",
     "text": [
      "Maximum accuracy of  0.7611111111111111 0.022222222222222233 is obtained with param : 260 identity adam 0.01\n"
     ]
    }
   ],
   "source": [
    "#for run 560 : \n",
    "max_accuracy = 0 \n",
    "best_nb_units = 0 \n",
    "best_activation = ''\n",
    "best_solver = ''\n",
    "best_learning_rate_init = 0.\n",
    "#there is yet a few additional params that we could explore \n",
    "for activation in ['identity', 'logistic', 'tanh', 'relu']:\n",
    "    for solver in ['adam']: #tested and adam is the best one \n",
    "        for learning_rate_init in [1e-5,5e-5,1e-4,5e-4,1e-3,5e-3,1e-2,5e-2]:\n",
    "            for unit in range(10,300,50): #nb of unit  \n",
    "                mlp_1_560 = MLPClassifier(random_state=150, max_iter=750,hidden_layer_sizes =(unit,1),solver=solver\n",
    "                                          ,activation=activation,learning_rate_init=learning_rate_init)\n",
    "                scores_560 = cross_val_score(mlp_1_560, list_560, label_560, cv=5)\n",
    "                \n",
    "                if scores_560.mean()> max_accuracy:\n",
    "                    max_accuracy = scores_560.mean()\n",
    "                    best_nb_units = unit\n",
    "                    best_activation = activation\n",
    "                    best_solver = solver\n",
    "                    best_learning_rate_init = learning_rate_init\n",
    "\n",
    "print(\"Maximum accuracy of \",max_accuracy,scores_560.std(),\"is obtained with param :\",best_nb_units,best_activation,best_solver,best_learning_rate_init)"
   ]
  },
  {
   "attachments": {},
   "cell_type": "markdown",
   "id": "c7d1be2a",
   "metadata": {},
   "source": [
    "#### Neural network (2 layers):"
   ]
  },
  {
   "cell_type": "code",
   "execution_count": null,
   "id": "ad925d4b",
   "metadata": {},
   "outputs": [],
   "source": [
    "#for run 500 : \n",
    "max_accuracy = 0 \n",
    "best_nb_units_1 = 0 \n",
    "best_nb_units_2 = 0\n",
    "best_activation = ''\n",
    "best_solver = ''\n",
    "best_learning_rate_init = 0.\n",
    "#there is yet a few additional params that we could explore \n",
    "for activation in ['identity', 'logistic', 'tanh', 'relu']:\n",
    "    for solver in ['adam']: #tested and adam is the best one \n",
    "        for learning_rate_init in [1e-5,5e-5,1e-4,5e-4,1e-3,5e-3,1e-2,5e-2]:\n",
    "            for unit_1 in range(10,300,50): #nb of unit  \n",
    "                for unit_2 in range(10,300,50):\n",
    "                    mlp_1_500 = MLPClassifier(random_state=150, max_iter=750,hidden_layer_sizes =(unit_1,unit_2),solver=solver\n",
    "                                            ,activation=activation,learning_rate_init=learning_rate_init)\n",
    "                    scores_500 = cross_val_score(mlp_1_500, list_500, label_500, cv=5)\n",
    "                    \n",
    "                    if scores_500.mean()> max_accuracy:\n",
    "                        max_accuracy = scores_500.mean()\n",
    "                        best_nb_units = unit\n",
    "                        best_activation = activation\n",
    "                        best_solver = solver\n",
    "                        best_learning_rate_init = learning_rate_init\n",
    "\n",
    "print(\"Maximum accuracy of \",max_accuracy,\"is obtained with param :\",best_nb_units,best_activation,best_solver,best_learning_rate_init)"
   ]
  },
  {
   "cell_type": "code",
   "execution_count": null,
   "id": "de2e0cc6",
   "metadata": {},
   "outputs": [],
   "source": [
    "#for run 510 : \n",
    "max_accuracy = 0 \n",
    "best_nb_units_1 = 0 \n",
    "best_nb_units_2 = 0\n",
    "best_activation = ''\n",
    "best_solver = ''\n",
    "best_learning_rate_init = 0.\n",
    "#there is yet a few additional params that we could explore \n",
    "for activation in ['identity', 'logistic', 'tanh', 'relu']:\n",
    "    for solver in ['adam']: #tested and adam is the best one \n",
    "        for learning_rate_init in [1e-5,5e-5,1e-4,5e-4,1e-3,5e-3,1e-2,5e-2]:\n",
    "            for unit_1 in range(10,300,50): #nb of unit  \n",
    "                for unit_2 in range(10,300,50):\n",
    "                    mlp_1_510 = MLPClassifier(random_state=150, max_iter=750,hidden_layer_sizes =(unit_1,unit_2),solver=solver\n",
    "                                            ,activation=activation,learning_rate_init=learning_rate_init)\n",
    "                    scores_510 = cross_val_score(mlp_1_510, list_510, label_510, cv=5)\n",
    "                    \n",
    "                    if scores_510.mean()> max_accuracy:\n",
    "                        max_accuracy = scores_510.mean()\n",
    "                        best_nb_units = unit\n",
    "                        best_activation = activation\n",
    "                        best_solver = solver\n",
    "                        best_learning_rate_init = learning_rate_init\n",
    "\n",
    "print(\"Maximum accuracy of \",max_accuracy,\"is obtained with param :\",best_nb_units,best_activation,best_solver,best_learning_rate_init)"
   ]
  },
  {
   "cell_type": "code",
   "execution_count": null,
   "id": "7c11ac0e",
   "metadata": {},
   "outputs": [],
   "source": [
    "#for run 530 : \n",
    "max_accuracy = 0 \n",
    "best_nb_units_1 = 0 \n",
    "best_nb_units_2 = 0\n",
    "best_activation = ''\n",
    "best_solver = ''\n",
    "best_learning_rate_init = 0.\n",
    "#there is yet a few additional params that we could explore \n",
    "for activation in ['identity', 'logistic', 'tanh', 'relu']:\n",
    "    for solver in ['adam']: #tested and adam is the best one \n",
    "        for learning_rate_init in [1e-5,5e-5,1e-4,5e-4,1e-3,5e-3,1e-2,5e-2]:\n",
    "            for unit_1 in range(10,300,50): #nb of unit  \n",
    "                for unit_2 in range(10,300,50):\n",
    "                    mlp_1_530 = MLPClassifier(random_state=150, max_iter=750,hidden_layer_sizes =(unit_1,unit_2),solver=solver\n",
    "                                            ,activation=activation,learning_rate_init=learning_rate_init)\n",
    "                    scores_530 = cross_val_score(mlp_1_530, list_530, label_530, cv=5)\n",
    "                    \n",
    "                    if scores_530.mean()> max_accuracy:\n",
    "                        max_accuracy = scores_530.mean()\n",
    "                        best_nb_units = unit\n",
    "                        best_activation = activation\n",
    "                        best_solver = solver\n",
    "                        best_learning_rate_init = learning_rate_init\n",
    "\n",
    "print(\"Maximum accuracy of \",max_accuracy,\"is obtained with param :\",best_nb_units,best_activation,best_solver,best_learning_rate_init)"
   ]
  },
  {
   "cell_type": "code",
   "execution_count": null,
   "id": "710547bc",
   "metadata": {},
   "outputs": [],
   "source": [
    "#for run 540 : \n",
    "max_accuracy = 0 \n",
    "best_nb_units_1 = 0 \n",
    "best_nb_units_2 = 0\n",
    "best_activation = ''\n",
    "best_solver = ''\n",
    "best_learning_rate_init = 0.\n",
    "#there is yet a few additional params that we could explore \n",
    "for activation in ['identity', 'logistic', 'tanh', 'relu']:\n",
    "    for solver in ['adam']: #tested and adam is the best one \n",
    "        for learning_rate_init in [1e-5,5e-5,1e-4,5e-4,1e-3,5e-3,1e-2,5e-2]:\n",
    "            for unit_1 in range(10,300,50): #nb of unit  \n",
    "                for unit_2 in range(10,300,50):\n",
    "                    mlp_1_540 = MLPClassifier(random_state=150, max_iter=750,hidden_layer_sizes =(unit_1,unit_2),solver=solver\n",
    "                                            ,activation=activation,learning_rate_init=learning_rate_init)\n",
    "                    scores_540 = cross_val_score(mlp_1_540, list_540, label_540, cv=5)\n",
    "                    \n",
    "                    if scores_540.mean()> max_accuracy:\n",
    "                        max_accuracy = scores_540.mean()\n",
    "                        best_nb_units = unit\n",
    "                        best_activation = activation\n",
    "                        best_solver = solver\n",
    "                        best_learning_rate_init = learning_rate_init\n",
    "\n",
    "print(\"Maximum accuracy of \",max_accuracy,\"is obtained with param :\",best_nb_units,best_activation,best_solver,best_learning_rate_init)"
   ]
  },
  {
   "cell_type": "code",
   "execution_count": null,
   "id": "86960e21",
   "metadata": {},
   "outputs": [],
   "source": [
    "#for run 541 : \n",
    "max_accuracy = 0 \n",
    "best_nb_units_1 = 0 \n",
    "best_nb_units_2 = 0\n",
    "best_activation = ''\n",
    "best_solver = ''\n",
    "best_learning_rate_init = 0.\n",
    "#there is yet a few additional params that we could explore \n",
    "for activation in ['identity', 'logistic', 'tanh', 'relu']:\n",
    "    for solver in ['adam']: #tested and adam is the best one \n",
    "        for learning_rate_init in [1e-5,5e-5,1e-4,5e-4,1e-3,5e-3,1e-2,5e-2]:\n",
    "            for unit_1 in range(10,300,50): #nb of unit  \n",
    "                for unit_2 in range(10,300,50):\n",
    "                    mlp_1_541 = MLPClassifier(random_state=150, max_iter=750,hidden_layer_sizes =(unit_1,unit_2),solver=solver\n",
    "                                            ,activation=activation,learning_rate_init=learning_rate_init)\n",
    "                    scores_541 = cross_val_score(mlp_1_541, list_541, label_541, cv=5)\n",
    "                    \n",
    "                    if scores_541.mean()> max_accuracy:\n",
    "                        max_accuracy = scores_541.mean()\n",
    "                        best_nb_units = unit\n",
    "                        best_activation = activation\n",
    "                        best_solver = solver\n",
    "                        best_learning_rate_init = learning_rate_init\n",
    "\n",
    "print(\"Maximum accuracy of \",max_accuracy,\"is obtained with param :\",best_nb_units,best_activation,best_solver,best_learning_rate_init)"
   ]
  },
  {
   "cell_type": "code",
   "execution_count": null,
   "id": "36795f52",
   "metadata": {},
   "outputs": [],
   "source": [
    "#for run 542: \n",
    "max_accuracy = 0 \n",
    "best_nb_units_1 = 0 \n",
    "best_nb_units_2 = 0\n",
    "best_activation = ''\n",
    "best_solver = ''\n",
    "best_learning_rate_init = 0.\n",
    "#there is yet a few additional params that we could explore \n",
    "for activation in ['identity', 'logistic', 'tanh', 'relu']:\n",
    "    for solver in ['adam']: #tested and adam is the best one \n",
    "        for learning_rate_init in [1e-5,5e-5,1e-4,5e-4,1e-3,5e-3,1e-2,5e-2]:\n",
    "            for unit_1 in range(10,300,50): #nb of unit  \n",
    "                for unit_2 in range(10,300,50):\n",
    "                    mlp_1_542 = MLPClassifier(random_state=150, max_iter=750,hidden_layer_sizes =(unit_1,unit_2),solver=solver\n",
    "                                            ,activation=activation,learning_rate_init=learning_rate_init)\n",
    "                    scores_542 = cross_val_score(mlp_1_542, list_542, label_542, cv=5)\n",
    "                    \n",
    "                    if scores_542.mean()> max_accuracy:\n",
    "                        max_accuracy = scores_542.mean()\n",
    "                        best_nb_units = unit\n",
    "                        best_activation = activation\n",
    "                        best_solver = solver\n",
    "                        best_learning_rate_init = learning_rate_init\n",
    "\n",
    "print(\"Maximum accuracy of \",max_accuracy,\"is obtained with param :\",best_nb_units,best_activation,best_solver,best_learning_rate_init)"
   ]
  },
  {
   "cell_type": "code",
   "execution_count": null,
   "id": "3e898d0f",
   "metadata": {},
   "outputs": [],
   "source": [
    "#for run 550 : \n",
    "max_accuracy = 0 \n",
    "best_nb_units_1 = 0 \n",
    "best_nb_units_2 = 0\n",
    "best_activation = ''\n",
    "best_solver = ''\n",
    "best_learning_rate_init = 0.\n",
    "#there is yet a few additional params that we could explore \n",
    "for activation in ['identity', 'logistic', 'tanh', 'relu']:\n",
    "    for solver in ['adam']: #tested and adam is the best one \n",
    "        for learning_rate_init in [1e-5,5e-5,1e-4,5e-4,1e-3,5e-3,1e-2,5e-2]:\n",
    "            for unit_1 in range(10,300,50): #nb of unit  \n",
    "                for unit_2 in range(10,300,50):\n",
    "                    mlp_1_550 = MLPClassifier(random_state=150, max_iter=750,hidden_layer_sizes =(unit_1,unit_2),solver=solver\n",
    "                                            ,activation=activation,learning_rate_init=learning_rate_init)\n",
    "                    scores_550 = cross_val_score(mlp_1_550, list_550, label_550, cv=5)\n",
    "                    \n",
    "                    if scores_550.mean()> max_accuracy:\n",
    "                        max_accuracy = scores_550.mean()\n",
    "                        best_nb_units = unit\n",
    "                        best_activation = activation\n",
    "                        best_solver = solver\n",
    "                        best_learning_rate_init = learning_rate_init\n",
    "\n",
    "print(\"Maximum accuracy of \",max_accuracy,\"is obtained with param :\",best_nb_units,best_activation,best_solver,best_learning_rate_init)"
   ]
  },
  {
   "cell_type": "code",
   "execution_count": null,
   "id": "43b94155",
   "metadata": {},
   "outputs": [],
   "source": [
    "#for run 560 : \n",
    "max_accuracy = 0 \n",
    "best_nb_units_1 = 0 \n",
    "best_nb_units_2 = 0\n",
    "best_activation = ''\n",
    "best_solver = ''\n",
    "best_learning_rate_init = 0.\n",
    "#there is yet a few additional params that we could explore \n",
    "for activation in ['identity', 'logistic', 'tanh', 'relu']:\n",
    "    for solver in ['adam']: #tested and adam is the best one \n",
    "        for learning_rate_init in [1e-5,5e-5,1e-4,5e-4,1e-3,5e-3,1e-2,5e-2]:\n",
    "            for unit_1 in range(10,300,50): #nb of unit  \n",
    "                for unit_2 in range(10,300,50):\n",
    "                    mlp_1_560 = MLPClassifier(random_state=150, max_iter=750,hidden_layer_sizes =(unit_1,unit_2),solver=solver\n",
    "                                            ,activation=activation,learning_rate_init=learning_rate_init)\n",
    "                    scores_560 = cross_val_score(mlp_1_560, list_560, label_560, cv=5)\n",
    "                    \n",
    "                    if scores_560.mean()> max_accuracy:\n",
    "                        max_accuracy = scores_560.mean()\n",
    "                        best_nb_units = unit\n",
    "                        best_activation = activation\n",
    "                        best_solver = solver\n",
    "                        best_learning_rate_init = learning_rate_init\n",
    "\n",
    "print(\"Maximum accuracy of \",max_accuracy,\"is obtained with param :\",best_nb_units,best_activation,best_solver,best_learning_rate_init)"
   ]
  },
  {
   "cell_type": "code",
   "execution_count": null,
   "id": "e0374c13",
   "metadata": {},
   "outputs": [],
   "source": []
  }
 ],
 "metadata": {
  "kernelspec": {
   "display_name": "Python 3 (ipykernel)",
   "language": "python",
   "name": "python3"
  },
  "language_info": {
   "codemirror_mode": {
    "name": "ipython",
    "version": 3
   },
   "file_extension": ".py",
   "mimetype": "text/x-python",
   "name": "python",
   "nbconvert_exporter": "python",
   "pygments_lexer": "ipython3",
   "version": "3.9.13"
  }
 },
 "nbformat": 4,
 "nbformat_minor": 5
}
